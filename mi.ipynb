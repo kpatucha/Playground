{
 "cells": [
  {
   "cell_type": "markdown",
   "metadata": {},
   "source": [
    "# Problems with `mutual_info_classif`"
   ]
  },
  {
   "cell_type": "code",
   "execution_count": 1,
   "metadata": {},
   "outputs": [],
   "source": [
    "import numpy as np\n",
    "from sklearn.feature_selection import mutual_info_classif\n",
    "from scipy.special import xlogy"
   ]
  },
  {
   "cell_type": "code",
   "execution_count": 4,
   "metadata": {},
   "outputs": [],
   "source": [
    "rng = np.random.default_rng(seed=42)\n",
    "X = rng.exponential(1, 10_000)\n",
    "X = np.append(X, -999 * np.ones(80_000))\n",
    "\n",
    "y = np.zeros_like(X)\n",
    "y_1 = rng.integers(0, len(X), 100)\n",
    "y[y_1] = 1\n",
    "y[X>8] = 1"
   ]
  },
  {
   "cell_type": "code",
   "execution_count": 18,
   "metadata": {},
   "outputs": [
    {
     "name": "stdout",
     "output_type": "stream",
     "text": [
      "Entropy of y from mutual_info_classif:                    H(y) = 0.008894923806728872\n",
      "Entropy of y calculated:                                  H(y) = 0.008894923806729682\n",
      "Mutual information of X and y from mutual_info_classif: I(X,y) = 0.015387394297115331\n"
     ]
    }
   ],
   "source": [
    "print(f\"Entropy of y from mutual_info_classif:                    H(y) = {mutual_info_classif(y[:,None],y, discrete_features=True)[0]}\")\n",
    "print(f\"Entropy of y calculated:                                  H(y) = {xlogy(y.mean(), 1/y.mean())+xlogy(1-y.mean(), 1/(1-y.mean()))}\")\n",
    "print(f\"Mutual information of X and y from mutual_info_classif: I(X,y) = {mutual_info_classif(X[:,None],y)[0]}\")"
   ]
  },
  {
   "cell_type": "code",
   "execution_count": 19,
   "metadata": {},
   "outputs": [
    {
     "name": "stdout",
     "output_type": "stream",
     "text": [
      "0.00001979\n"
     ]
    }
   ],
   "source": [
    "X_na = np.zeros_like(X)\n",
    "X_na[X==-999] = 1\n",
    "mi = mutual_info_classif(X_na[:,None], y, discrete_features=True) + (1-X_na.mean())*mutual_info_classif(X[X!=-999, None], y[X!=-999])\n",
    "print(f\"{mi[0]:.8f}\")"
   ]
  },
  {
   "cell_type": "code",
   "execution_count": null,
   "metadata": {},
   "outputs": [],
   "source": []
  }
 ],
 "metadata": {
  "kernelspec": {
   "display_name": "venv",
   "language": "python",
   "name": "python3"
  },
  "language_info": {
   "codemirror_mode": {
    "name": "ipython",
    "version": 3
   },
   "file_extension": ".py",
   "mimetype": "text/x-python",
   "name": "python",
   "nbconvert_exporter": "python",
   "pygments_lexer": "ipython3",
   "version": "3.13.1"
  }
 },
 "nbformat": 4,
 "nbformat_minor": 2
}
