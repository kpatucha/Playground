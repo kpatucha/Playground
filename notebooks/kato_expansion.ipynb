{
 "cells": [
  {
   "cell_type": "markdown",
   "id": "c0eb323d",
   "metadata": {},
   "source": [
    "# Perturbation theory - quantum mechanics (and other eigenvalue problems)"
   ]
  },
  {
   "cell_type": "markdown",
   "id": "ef538456",
   "metadata": {},
   "source": [
    "## Introduction\n",
    "\n",
    "We start with a Hamiltonian:\n",
    "$$\n",
    "\\hat{H} = \\hat{H}_0 +\\lambda\\hat{V}\n",
    "$$\n",
    "where\n",
    "- $\\hat{H}_0$ - base problem we know solution to\n",
    "- $\\lambda$ - small parameter\n",
    "- $\\hat{V}$ - perturbation\n",
    "\n",
    "We want to find solutions to the eigenvalue problem\n",
    "$$\n",
    "\\hat{H}|n\\rangle = E_n|n\\rangle\n",
    "$$\n",
    "by expanding it in series of $\\lambda$\n",
    "$$\n",
    "E_n = E_n^{(0)} + \\lambda E_n^{(1)} + \\lambda^2 E_n^{(2)} + \\lambda^3 E_n^{(3)} + \\dots\n",
    "$$\n",
    "\n",
    "### Perturbation theory - Kato expansion\n",
    "Instead of using standard, [recursive way](https://en.wikipedia.org/wiki/Perturbation_theory_%28quantum_mechanics%29) of calculating each order of expansion we can use *Kato perturbation theory*. Details can be found here:\n",
    "- [Perturbation Theory for Linear Operators - Tosio Kato](https://webhomes.maths.ed.ac.uk/~v1ranick/papers/kato1.pdf) - heavy math\n",
    "- [Quantum Mechanics Vol II - Albert Messiah](https://www.slideshare.net/slideshow/messiah-quantum-mechanics-volume-ii/41304554#114) - reasonable derivation (Chapter XVI, Section III page 712)\n",
    "- [Critical properties of the  Bose-Hubbard model - Dennis Hinrichs](http://users.physik.fu-berlin.de/~pelster/Theses/hinrichs.pdf) - PhD thesis with nice derivation\n",
    "- [Process chain approach to high-order perturbation calculus for quantum lattice models - Andre Eckardt](http://arxiv.org/abs/0811.2353) - clear explanation of final, practical steps of calculations\n",
    "- [High-order symbolic strong-coupling expansion for the Bose-Hubbard model - Wang et al.](http://arxiv.org/abs/1801.01862) - some additional details for practical calculations\n",
    "\n",
    "❗To simplify notation we will use $|n^{(0)}\\rangle=|n\\rangle$\n",
    "\n",
    "❗This is perturbation theory where $E_n^{(0)}$ is non-degenerate\n",
    "\n",
    "$\\nu$ th order expansion of eigenvalue $E_n$ is given by:\n",
    "$$\n",
    "E_n^{(\\nu)} = \\sum_{\\{\\alpha_l\\}}\\mathrm{Tr}\\left( \\hat{S}_{\\alpha_{\\nu+1}}\\hat{V}\\hat{S}_{\\alpha_\\nu}\\dots \\hat{S}_{\\alpha_2}\\hat{V}\\hat{S}_{\\alpha_1}\\right) \\tag{1}\n",
    "$$\n",
    "\n",
    "where\n",
    "$$\n",
    "\\hat{S}_{\\alpha} = \\begin{cases}\n",
    "-|n\\rangle\\langle n| & \\text{for} & \\alpha=0\\\\\n",
    "\\sum\\limits_{k\\neq n}\\frac{|k\\rangle\\langle k|}{E_{nk}^\\alpha} & \\text{for} & \\alpha>0\n",
    "\\end{cases}\n",
    "$$\n",
    "where $E_{nk} = E_n^{(0)} - E_k^{(0)}$ , and sum runs over all possible sequences $\\{\\alpha_l\\}$ of non-negative integers of length $\\nu+1$ which obey following relation:\n",
    "$$\n",
    "\\sum_{l=1}^{\\nu+1}\\alpha_l = \\nu-1 \\tag{2}\n",
    "$$\n",
    "\n",
    "Operator $\\hat{S}_\\alpha$ has following properties:\n",
    "$$\\begin{split}\n",
    "\\begin{cases}\n",
    "\\hat{S}_0\\hat{S}_0&=-\\hat{S}_0\\\\\n",
    "\\hat{S}_\\alpha\\hat{S}_\\beta &= \\hat{S}_{\\alpha + \\beta}&\\text{for} &\\alpha,\\beta&>0\\\\\n",
    "\\hat{S}_0\\hat{S}_\\alpha &= 0 &\\text{for}&\\alpha &>0\n",
    "\\end{cases}\n",
    "\\end{split}$$\n",
    "These properties indicate that sequences where $\\alpha_1=0$ and $\\alpha_{\\nu+1}\\neq 0$, or $\\alpha_{\\nu+1}=0$ and $\\alpha_1\\neq 0$ ($0$ at one end and non-zero at the other end) will vanish under the trace.\n",
    "\n",
    "Constraint Eq.(1) indicates that at least two of $\\alpha_l=0$. Using cyclic permutations and properties of operator $\\hat{S}_\\alpha$ we can place these $\\alpha_l=0$ at both ends of trace in Eq.(1). This operation will produce terms that already appear in the sum but with opposite sign which can be cancelled out e.g.:\n",
    "\n",
    "$$\n",
    "\\begin{split}\n",
    "\\mathrm{Tr}(\\hat{S}_1\\hat{V}\\hat{S}_0\\hat{V}\\hat{S}_0\\hat{V}\\hat{S}_1) &=  \\mathrm{Tr}(\\hat{V}\\hat{S}_0\\hat{V}\\hat{S}_0\\hat{V}\\hat{S}_1\\hat{S}_1) = \\mathrm{Tr}(\\hat{V}\\hat{S}_0\\hat{V}\\hat{S}_0\\hat{V}\\hat{S}_2) \\\\\n",
    "&=-\\mathrm{Tr}(\\hat{V}\\hat{S}_0\\hat{S}_0\\hat{V}\\hat{S}_0\\hat{V}\\hat{S}_2)\\\\\n",
    "&=-\\mathrm{Tr}(\\hat{S}_0\\hat{V}\\hat{S}_0\\hat{V}\\hat{S}_2\\hat{V}\\hat{S}_0)\n",
    "\\end{split}\n",
    "$$\n",
    "\n",
    "This simplifies formula to:\n",
    "$$\n",
    "E_n^{(\\nu)} = \\sum_{\\{\\alpha_l\\}}\\langle n|\\hat{V}\\hat{S}_{\\alpha_{\\nu-1}}\\hat{V}\\hat{S}_{\\alpha_\\nu}\\hat{V}\\dots\\hat{S}_{\\alpha_2}\\hat{V}\\hat{S}_{\\alpha_1}\\hat{V}|n\\rangle \\tag{3}\n",
    "$$\n",
    "\n",
    "where this time sum runs over all sequences $\\{\\alpha_l\\}$ of length $\\nu-1$ of non-negative integers which obey following relation \n",
    "$$\n",
    "\\sum_{l=1}^{\\nu-1}\\alpha_l = \\nu-1 \\tag{4}\n",
    "$$\n",
    "Cancellation of terms adds additional constraint:\n",
    "$$\n",
    "\\sum_{l=1}^s \\alpha_l \\geq s \\text{ where } s\\in\\{1,2,3,\\dots,\\nu-1\\} \\tag{5}\n",
    "$$\n",
    "In Eq.(3) many terms will give the same contributions. To determine unique terms we can first simplify notation by representing terms in Eq.(3) by sequence $\\{\\alpha_l\\}$:\n",
    "$$\n",
    "\\langle n|\\hat{V}\\hat{S}_{0}\\hat{V}\\hat{S}_{1}\\hat{V}\\hat{S}_{2}\\hat{V} |n \\rangle = (210)\n",
    "$$\n",
    "\n",
    "This representation can be broken-up further into elementary matrix elements (EMEs) which contain only non-zero values of $\\alpha_l$ and diagonal elements $V_{nn} = \\langle n|\\hat{V}|n\\rangle$. It can be thought of as representing $|n\\rangle$ as $)$ and $\\langle n|$ as $($ in operator $\\hat{S}_0$ e.g.:\n",
    "$$\n",
    "(210) = (21)()\n",
    "$$\n",
    "\n",
    "This helps to collect terms which give the same contributions. To do this we use two facts about EMEs representation:\n",
    "1. EMEs are hermitian - reversing order of numbers inside EME doesn't change it's value (i.e. $(31)=(13)$)\n",
    "2. Permutations of EMEs within the term don't change the value of the term\n",
    "\n",
    "Second fact can be shown in an example:\n",
    "$$\n",
    "(310011)=\\langle n|\\hat{V}\\hat{S}_1\\hat{V}\\hat{S}_1\\hat{V}\\hat{S}_0\\hat{V}\\hat{S}_0\\hat{V}\\hat{S}_1\\hat{V}\\hat{S}_3\\hat{V}|n\\rangle = \\frac{V_{nk_1}V_{k_1k_2}V_{k_2n}}{E_{nk_1}E_{nk_2}} V_{nn}\\frac{V_{nk_3}V_{k_3k_4}V_{k_4n}}{E_{nk_3}E_{nk_4}^2} = (31)()(11) = (31)(11)()\n",
    "$$\n",
    "where there is implicit summation over all $k$. EMEs begin with $\\langle n|$ and end with $|n\\rangle$ therefore they are no longer matrices but simply complex numbers which can be safely permuted within each term.\n",
    "\n",
    "Thanks to 1. we can transform each term by choosing smaller algebracially ordering i.e. $(31)\\rightarrow (13)$. Thanks to 2. we can also sort all EMEs lexicographically i.e. $(13)()(11)\\rightarrow ()(11)(13)$. These operation will result in only *unique* terms in Eq.(3). Number of times these unique terms appear in the sum will give a factor in final formula.\n",
    "\n",
    "Sign of each unique term is given by $(-1)^{l_0}$ where $l_0$ is number of times $0$ appears in sequence $\\{\\alpha_l\\}$ due to the form of operator $\\hat{S}_0$. This is equivalent to number of EMEs (including diagonal terms $()=V_{nn}$) minus 1 i.e. term $(310011)=(13)()(11)=()(11)(13)$ has sign $(-1)^{3-1}=+1$. "
   ]
  },
  {
   "cell_type": "markdown",
   "id": "0eaeb4ca",
   "metadata": {},
   "source": [
    "## Imports\n",
    "\n",
    "I use `SymPy` here mostly for nice presentation."
   ]
  },
  {
   "cell_type": "code",
   "execution_count": 1,
   "id": "6e781130",
   "metadata": {},
   "outputs": [
    {
     "name": "stdout",
     "output_type": "stream",
     "text": [
      "IPython console for SymPy 1.14.0 (Python 3.13.1-64-bit) (ground types: python)\n",
      "\n",
      "These commands were executed:\n",
      ">>> from sympy import *\n",
      ">>> x, y, z, t = symbols('x y z t')\n",
      ">>> k, m, n = symbols('k m n', integer=True)\n",
      ">>> f, g, h = symbols('f g h', cls=Function)\n",
      ">>> init_printing()\n",
      "\n",
      "Documentation can be found at https://docs.sympy.org/1.14.0/\n",
      "\n"
     ]
    }
   ],
   "source": [
    "from itertools import accumulate\n",
    "from itertools import combinations_with_replacement as cwr\n",
    "\n",
    "from sympy import *\n",
    "\n",
    "init_session() "
   ]
  },
  {
   "cell_type": "markdown",
   "id": "cdd977a3",
   "metadata": {},
   "source": [
    "## Implementation\n",
    "\n",
    "- `combinations_with_replacement` generates samples that can be transformed into sequences in fulfilling Eq.(4)\n",
    "- `combinations_with_replacement` generates samples in such order that all samples after `(0,1,2,3,...,nu-2)` **don't** fulfill Eq.(5)\n",
    "- Eq.(5) is essentially cumulative sum, so it can be checked lexicografically from the back\n",
    "- we can \"cut\" sequences into EMEs by searching for `0` until there are no `0` left\n",
    "- Python compares iterables lexicographically so we can check if EME is \"smaller\" or reverse EME and save \"smaller\" one\n",
    "- we can sort EMEs within one term lexicographically to get only unique terms\n",
    "- we can record how many times given term has appeared to get a factor in front of this term\n",
    "- we can determine sign of the term by counting number of EMEs (including `()`)"
   ]
  },
  {
   "cell_type": "code",
   "execution_count": 2,
   "id": "7d72f2e5",
   "metadata": {},
   "outputs": [],
   "source": [
    "def kato_expansion(nu):\n",
    "    terms = {}\n",
    "    range_nu = tuple(range(nu-1)) # will be reused many times\n",
    "    s_max = tuple(range(nu-1,0,-1))\n",
    "\n",
    "    for ms in cwr(range_nu, nu-1):\n",
    "        term = tuple(ms.count(i) for i in range_nu) # transform cwr samples into sequences fulfilling Eq.(4) (first constraint)\n",
    "\n",
    "        s = tuple(reversed(tuple(accumulate(term))))\n",
    "        if s < s_max: # check second constraint - Eq.(5)\n",
    "            continue\n",
    "        \n",
    "        emes = []\n",
    "        while 0 in term:\n",
    "            idx = term.index(0)\n",
    "\n",
    "            eme = term[:idx] # save sequence until first 0\n",
    "            eme_rev = tuple(reversed(eme)) # check if reverse is smaller\n",
    "            if eme_rev < eme:\n",
    "                emes.append(eme_rev)\n",
    "            else:\n",
    "                emes.append(eme)\n",
    "            term = term[idx+1:] # cut out already saved part\n",
    "        # save everything that is left\n",
    "        eme_rev = tuple(reversed(term))\n",
    "        if eme_rev < term:\n",
    "            emes.append(eme_rev)\n",
    "        else:\n",
    "            emes.append(term)\n",
    "\n",
    "        term = tuple(sorted(emes)) # sort lexicographically\n",
    "\n",
    "        terms[term] = terms.setdefault(term, 0) + 1 # if exists add one if not insert and set to 1\n",
    "        \n",
    "        if ms == range_nu: # all sequences after this one will not fullfil second constraint - Eq. (5)\n",
    "            break\n",
    "\n",
    "    for term in terms: # determin the sign\n",
    "        terms[term] *= (-1)**(len(term)-1)\n",
    "\n",
    "    return terms"
   ]
  },
  {
   "cell_type": "markdown",
   "id": "d1d42b5d",
   "metadata": {},
   "source": [
    "Helper function to build formula in `SymPy`"
   ]
  },
  {
   "cell_type": "code",
   "execution_count": 3,
   "id": "a76c6795",
   "metadata": {},
   "outputs": [],
   "source": [
    "def build_formula(terms, nu):\n",
    "    # Unfortunately SymPy has lexicographical ordering of displaying terms which is difficult to change.\n",
    "    # This means that n would come after k. To make the ordering nice base state is labeled l and other states are labeled m.\n",
    "    global l, m ,n_dim, V, E_diff\n",
    "    m = []\n",
    "    l = Symbol(\"l\", integer=True)\n",
    "    m.extend(Symbol(f\"m_{i}\") for i in range(nu)) # \n",
    "    n_dim = Symbol(\"n_{dim}\", integer=True)\n",
    "    V = MatrixSymbol(\"V\", n_dim, n_dim)\n",
    "    E_diff = MatrixSymbol(\"E\", n_dim, n_dim)\n",
    "    E_nu = 0\n",
    "    for term in terms:\n",
    "        elem = 1\n",
    "        i = 1\n",
    "        for eme in term:\n",
    "            if eme == ():\n",
    "                elem = elem*V[l, l]\n",
    "                continue\n",
    "            if len(eme) == 1:\n",
    "                elem *= abs(V[l, m[i]])**2/(E_diff[l, m[i]]**eme[0])\n",
    "                i += 1\n",
    "            else:\n",
    "                i_prev = l\n",
    "                for j, eme_i in enumerate(eme):\n",
    "                    if j == len(eme)-1:\n",
    "                        elem *= V[m[i], l]\n",
    "                    elem *= V[i_prev, m[i]]/(E_diff[l, m[i]]**eme_i)\n",
    "                    i_prev = m[i]\n",
    "                    i +=1\n",
    "        E_nu += elem*terms[term]\n",
    "    return E_nu"
   ]
  },
  {
   "cell_type": "markdown",
   "id": "d4092dd0",
   "metadata": {},
   "source": [
    "## Sanity check\n",
    "\n",
    "First five orders can be checked against [wikipedia](https://en.wikipedia.org/wiki/Perturbation_theory_%28quantum_mechanics%29#Second-order_and_higher-order_corrections) (click `[show]` on the website).\n",
    "\n",
    "- Correction for non-degenerate eigenvalue $E_l^{(0)}$ ($l$ for nicer presentation in `SymPy`)\n",
    "- Each term has implicit sum over all appearing $m_i$\n",
    "- $V_{l,m_i} = \\langle l|\\hat{V}|m_i\\rangle$\n",
    "- $|l\\rangle = |l^{(0)}\\rangle$\n",
    "- $E_{l,m_i} = E_l^{(0)} - E_{m_i}^{(0)}$"
   ]
  },
  {
   "cell_type": "code",
   "execution_count": 4,
   "id": "b0d3cd5d",
   "metadata": {},
   "outputs": [
    {
     "data": {
      "image/png": "[encoded data removed]",
      "text/latex": [
       "$\\displaystyle {V}_{l,l}$"
      ],
      "text/plain": [
       "(V)[l, l]"
      ]
     },
     "execution_count": 4,
     "metadata": {},
     "output_type": "execute_result"
    }
   ],
   "source": [
    "nu = 1\n",
    "terms = kato_expansion(nu)\n",
    "E_nu = build_formula(terms, nu)\n",
    "E_nu"
   ]
  },
  {
   "cell_type": "code",
   "execution_count": 5,
   "id": "d4aadecb",
   "metadata": {},
   "outputs": [
    {
     "data": {
      "image/png": "[encoded data removed]",
      "text/latex": [
       "$\\displaystyle \\frac{\\left|{{V}_{l,m_{1}}}\\right|^{2}}{{E}_{l,m_{1}}}$"
      ],
      "text/plain": [
       "            2\n",
       "│(V)[l, m₁]│ \n",
       "─────────────\n",
       " (E)[l, m₁]  "
      ]
     },
     "execution_count": 5,
     "metadata": {},
     "output_type": "execute_result"
    }
   ],
   "source": [
    "nu = 2\n",
    "terms = kato_expansion(nu)\n",
    "E_nu = build_formula(terms, nu)\n",
    "E_nu"
   ]
  },
  {
   "cell_type": "code",
   "execution_count": 6,
   "id": "d8df8663",
   "metadata": {},
   "outputs": [
    {
     "data": {
      "image/png": "[encoded data removed]",
      "text/latex": [
       "$\\displaystyle - \\frac{\\left|{{V}_{l,m_{1}}}\\right|^{2} {V}_{l,l}}{{E}_{l,m_{1}}^{2}} + \\frac{{V}_{l,m_{1}} {V}_{m_{1},m_{2}} {V}_{m_{2},l}}{{E}_{l,m_{1}} {E}_{l,m_{2}}}$"
      ],
      "text/plain": [
       "              2                                              \n",
       "  │(V)[l, m₁]│ ⋅(V)[l, l]   (V)[l, m₁]⋅(V)[m₁, m₂]⋅(V)[m₂, l]\n",
       "- ─────────────────────── + ─────────────────────────────────\n",
       "           2                      (E)[l, m₁]⋅(E)[l, m₂]      \n",
       "        (E) [l, m₁]                                          "
      ]
     },
     "execution_count": 6,
     "metadata": {},
     "output_type": "execute_result"
    }
   ],
   "source": [
    "nu = 3\n",
    "terms = kato_expansion(nu)\n",
    "E_nu = build_formula(terms, nu)\n",
    "E_nu"
   ]
  },
  {
   "cell_type": "code",
   "execution_count": 7,
   "id": "dea3b7e3",
   "metadata": {},
   "outputs": [
    {
     "data": {
      "image/png": "[encoded data removed]",
      "text/latex": [
       "$\\displaystyle - \\frac{\\left|{{V}_{l,m_{1}}}\\right|^{2} \\left|{{V}_{l,m_{2}}}\\right|^{2}}{{E}_{l,m_{1}} {E}_{l,m_{2}}^{2}} + \\frac{\\left|{{V}_{l,m_{1}}}\\right|^{2} {V}_{l,l}^{2}}{{E}_{l,m_{1}}^{3}} + \\frac{{V}_{l,m_{1}} {V}_{m_{1},m_{2}} {V}_{m_{2},m_{3}} {V}_{m_{3},l}}{{E}_{l,m_{1}} {E}_{l,m_{2}} {E}_{l,m_{3}}} - \\frac{2 {V}_{l,l} {V}_{l,m_{1}} {V}_{m_{1},m_{2}} {V}_{m_{2},l}}{{E}_{l,m_{1}} {E}_{l,m_{2}}^{2}}$"
      ],
      "text/plain": [
       "              2             2               2    2                             ↪\n",
       "  │(V)[l, m₁]│ ⋅│(V)[l, m₂]│    │(V)[l, m₁]│ ⋅(V) [l, l]   (V)[l, m₁]⋅(V)[m₁,  ↪\n",
       "- ─────────────────────────── + ──────────────────────── + ─────────────────── ↪\n",
       "                  2                      3                       (E)[l, m₁]⋅(E ↪\n",
       "    (E)[l, m₁]⋅(E) [l, m₂]            (E) [l, m₁]                              ↪\n",
       "\n",
       "↪                                                                           \n",
       "↪ m₂]⋅(V)[m₂, m₃]⋅(V)[m₃, l]   2⋅(V)[l, l]⋅(V)[l, m₁]⋅(V)[m₁, m₂]⋅(V)[m₂, l]\n",
       "↪ ────────────────────────── - ─────────────────────────────────────────────\n",
       "↪ )[l, m₂]⋅(E)[l, m₃]                                   2                   \n",
       "↪                                         (E)[l, m₁]⋅(E) [l, m₂]            "
      ]
     },
     "execution_count": 7,
     "metadata": {},
     "output_type": "execute_result"
    }
   ],
   "source": [
    "nu = 4\n",
    "terms = kato_expansion(nu)\n",
    "E_nu = build_formula(terms, nu)\n",
    "E_nu"
   ]
  },
  {
   "cell_type": "code",
   "execution_count": 8,
   "id": "e1ef3c9a",
   "metadata": {},
   "outputs": [
    {
     "data": {
      "image/png": "[encoded data removed]",
      "text/latex": [
       "$\\displaystyle \\frac{2 \\left|{{V}_{l,m_{1}}}\\right|^{2} \\left|{{V}_{l,m_{2}}}\\right|^{2} {V}_{l,l}}{{E}_{l,m_{1}} {E}_{l,m_{2}}^{3}} + \\frac{\\left|{{V}_{l,m_{1}}}\\right|^{2} \\left|{{V}_{l,m_{2}}}\\right|^{2} {V}_{l,l}}{{E}_{l,m_{1}}^{2} {E}_{l,m_{2}}^{2}} - \\frac{2 \\left|{{V}_{l,m_{1}}}\\right|^{2} {V}_{l,m_{2}} {V}_{m_{2},m_{3}} {V}_{m_{3},l}}{{E}_{l,m_{1}} {E}_{l,m_{2}} {E}_{l,m_{3}}^{2}} - \\frac{\\left|{{V}_{l,m_{1}}}\\right|^{2} {V}_{l,l}^{3}}{{E}_{l,m_{1}}^{4}} - \\frac{\\left|{{V}_{l,m_{3}}}\\right|^{2} {V}_{l,m_{1}} {V}_{m_{1},m_{2}} {V}_{m_{2},l}}{{E}_{l,m_{1}} {E}_{l,m_{2}} {E}_{l,m_{3}}^{2}} + \\frac{{V}_{l,m_{1}} {V}_{m_{1},m_{2}} {V}_{m_{2},m_{3}} {V}_{m_{3},m_{4}} {V}_{m_{4},l}}{{E}_{l,m_{1}} {E}_{l,m_{2}} {E}_{l,m_{3}} {E}_{l,m_{4}}} - \\frac{2 {V}_{l,l} {V}_{l,m_{1}} {V}_{m_{1},m_{2}} {V}_{m_{2},m_{3}} {V}_{m_{3},l}}{{E}_{l,m_{1}} {E}_{l,m_{2}} {E}_{l,m_{3}}^{2}} - \\frac{{V}_{l,l} {V}_{l,m_{1}} {V}_{m_{1},m_{2}} {V}_{m_{2},m_{3}} {V}_{m_{3},l}}{{E}_{l,m_{1}} {E}_{l,m_{2}}^{2} {E}_{l,m_{3}}} + \\frac{2 {V}_{l,l}^{2} {V}_{l,m_{1}} {V}_{m_{1},m_{2}} {V}_{m_{2},l}}{{E}_{l,m_{1}} {E}_{l,m_{2}}^{3}} + \\frac{{V}_{l,l}^{2} {V}_{l,m_{1}} {V}_{m_{1},m_{2}} {V}_{m_{2},l}}{{E}_{l,m_{1}}^{2} {E}_{l,m_{2}}^{2}}$"
      ],
      "text/plain": [
       "              2             2                         2             2          ↪\n",
       "2⋅│(V)[l, m₁]│ ⋅│(V)[l, m₂]│ ⋅(V)[l, l]   │(V)[l, m₁]│ ⋅│(V)[l, m₂]│ ⋅(V)[l, l ↪\n",
       "─────────────────────────────────────── + ──────────────────────────────────── ↪\n",
       "                      3                             2           2              ↪\n",
       "        (E)[l, m₁]⋅(E) [l, m₂]                   (E) [l, m₁]⋅(E) [l, m₂]       ↪\n",
       "\n",
       "↪                   2                                                 2    3   ↪\n",
       "↪ ]   2⋅│(V)[l, m₁]│ ⋅(V)[l, m₂]⋅(V)[m₂, m₃]⋅(V)[m₃, l]   │(V)[l, m₁]│ ⋅(V) [l ↪\n",
       "↪ ─ - ───────────────────────────────────────────────── - ──────────────────── ↪\n",
       "↪                                      2                           4           ↪\n",
       "↪             (E)[l, m₁]⋅(E)[l, m₂]⋅(E) [l, m₃]                 (E) [l, m₁]    ↪\n",
       "\n",
       "↪                    2                                                         ↪\n",
       "↪ , l]   │(V)[l, m₃]│ ⋅(V)[l, m₁]⋅(V)[m₁, m₂]⋅(V)[m₂, l]   (V)[l, m₁]⋅(V)[m₁,  ↪\n",
       "↪ ──── - ─────────────────────────────────────────────── + ─────────────────── ↪\n",
       "↪                                        2                        (E)[l, m₁]⋅( ↪\n",
       "↪               (E)[l, m₁]⋅(E)[l, m₂]⋅(E) [l, m₃]                              ↪\n",
       "\n",
       "↪                                                                              ↪\n",
       "↪ m₂]⋅(V)[m₂, m₃]⋅(V)[m₃, m₄]⋅(V)[m₄, l]   2⋅(V)[l, l]⋅(V)[l, m₁]⋅(V)[m₁, m₂]⋅ ↪\n",
       "↪ ────────────────────────────────────── - ─────────────────────────────────── ↪\n",
       "↪ E)[l, m₂]⋅(E)[l, m₃]⋅(E)[l, m₄]                                              ↪\n",
       "↪                                                      (E)[l, m₁]⋅(E)[l, m₂]⋅( ↪\n",
       "\n",
       "↪                                                                              ↪\n",
       "↪ (V)[m₂, m₃]⋅(V)[m₃, l]   (V)[l, l]⋅(V)[l, m₁]⋅(V)[m₁, m₂]⋅(V)[m₂, m₃]⋅(V)[m₃ ↪\n",
       "↪ ────────────────────── - ─────────────────────────────────────────────────── ↪\n",
       "↪   2                                               2                          ↪\n",
       "↪ E) [l, m₃]                          (E)[l, m₁]⋅(E) [l, m₂]⋅(E)[l, m₃]        ↪\n",
       "\n",
       "↪             2                                              2                 ↪\n",
       "↪ , l]   2⋅(V) [l, l]⋅(V)[l, m₁]⋅(V)[m₁, m₂]⋅(V)[m₂, l]   (V) [l, l]⋅(V)[l, m₁ ↪\n",
       "↪ ──── + ────────────────────────────────────────────── + ──────────────────── ↪\n",
       "↪                                  3                                   2       ↪\n",
       "↪                    (E)[l, m₁]⋅(E) [l, m₂]                         (E) [l, m₁ ↪\n",
       "\n",
       "↪                         \n",
       "↪ ]⋅(V)[m₁, m₂]⋅(V)[m₂, l]\n",
       "↪ ────────────────────────\n",
       "↪      2                  \n",
       "↪ ]⋅(E) [l, m₂]           "
      ]
     },
     "execution_count": 8,
     "metadata": {},
     "output_type": "execute_result"
    }
   ],
   "source": [
    "nu = 5\n",
    "terms = kato_expansion(nu)\n",
    "E_nu = build_formula(terms, nu)\n",
    "E_nu"
   ]
  },
  {
   "cell_type": "markdown",
   "id": "bf7ce135",
   "metadata": {},
   "source": [
    "### LaTeX printing"
   ]
  },
  {
   "cell_type": "code",
   "execution_count": 9,
   "id": "34878672",
   "metadata": {},
   "outputs": [
    {
     "name": "stdout",
     "output_type": "stream",
     "text": [
      "\\frac{2 \\left|{{V}_{l,m_{1}}}\\right|^{2} \\left|{{V}_{l,m_{2}}}\\right|^{2} {V}_{l,l}}{{E}_{l,m_{1}} {E}_{l,m_{2}}^{3}} + \\frac{\\left|{{V}_{l,m_{1}}}\\right|^{2} \\left|{{V}_{l,m_{2}}}\\right|^{2} {V}_{l,l}}{{E}_{l,m_{1}}^{2} {E}_{l,m_{2}}^{2}} - \\frac{2 \\left|{{V}_{l,m_{1}}}\\right|^{2} {V}_{l,m_{2}} {V}_{m_{2},m_{3}} {V}_{m_{3},l}}{{E}_{l,m_{1}} {E}_{l,m_{2}} {E}_{l,m_{3}}^{2}} - \\frac{\\left|{{V}_{l,m_{1}}}\\right|^{2} {V}_{l,l}^{3}}{{E}_{l,m_{1}}^{4}} - \\frac{\\left|{{V}_{l,m_{3}}}\\right|^{2} {V}_{l,m_{1}} {V}_{m_{1},m_{2}} {V}_{m_{2},l}}{{E}_{l,m_{1}} {E}_{l,m_{2}} {E}_{l,m_{3}}^{2}} + \\frac{{V}_{l,m_{1}} {V}_{m_{1},m_{2}} {V}_{m_{2},m_{3}} {V}_{m_{3},m_{4}} {V}_{m_{4},l}}{{E}_{l,m_{1}} {E}_{l,m_{2}} {E}_{l,m_{3}} {E}_{l,m_{4}}} - \\frac{2 {V}_{l,l} {V}_{l,m_{1}} {V}_{m_{1},m_{2}} {V}_{m_{2},m_{3}} {V}_{m_{3},l}}{{E}_{l,m_{1}} {E}_{l,m_{2}} {E}_{l,m_{3}}^{2}} - \\frac{{V}_{l,l} {V}_{l,m_{1}} {V}_{m_{1},m_{2}} {V}_{m_{2},m_{3}} {V}_{m_{3},l}}{{E}_{l,m_{1}} {E}_{l,m_{2}}^{2} {E}_{l,m_{3}}} + \\frac{2 {V}_{l,l}^{2} {V}_{l,m_{1}} {V}_{m_{1},m_{2}} {V}_{m_{2},l}}{{E}_{l,m_{1}} {E}_{l,m_{2}}^{3}} + \\frac{{V}_{l,l}^{2} {V}_{l,m_{1}} {V}_{m_{1},m_{2}} {V}_{m_{2},l}}{{E}_{l,m_{1}}^{2} {E}_{l,m_{2}}^{2}}\n"
     ]
    }
   ],
   "source": [
    "print(latex(E_nu))"
   ]
  },
  {
   "cell_type": "markdown",
   "id": "9b742422",
   "metadata": {},
   "source": [
    "## High orders\n",
    "\n",
    "For higher orders printing can be problematic because they contain thousands of terms."
   ]
  },
  {
   "cell_type": "code",
   "execution_count": 10,
   "id": "f4988b02",
   "metadata": {},
   "outputs": [],
   "source": [
    "nu = 16\n",
    "terms = kato_expansion(nu)"
   ]
  },
  {
   "cell_type": "code",
   "execution_count": 11,
   "id": "819ef7aa",
   "metadata": {},
   "outputs": [
    {
     "name": "stdout",
     "output_type": "stream",
     "text": [
      "Number of terms in 16th order of exapnsion is 79,876\n"
     ]
    }
   ],
   "source": [
    "print(f\"Number of terms in {nu}{'nd' if nu==2 else 'rd' if nu==3 else 'th'} order of exapnsion is {len(terms):,}\")"
   ]
  },
  {
   "cell_type": "code",
   "execution_count": null,
   "id": "5ca00360",
   "metadata": {},
   "outputs": [],
   "source": []
  }
 ],
 "metadata": {
  "kernelspec": {
   "display_name": "sympy_venv",
   "language": "python",
   "name": "python3"
  },
  "language_info": {
   "codemirror_mode": {
    "name": "ipython",
    "version": 3
   },
   "file_extension": ".py",
   "mimetype": "text/x-python",
   "name": "python",
   "nbconvert_exporter": "python",
   "pygments_lexer": "ipython3",
   "version": "3.13.1"
  }
 },
 "nbformat": 4,
 "nbformat_minor": 5
}
