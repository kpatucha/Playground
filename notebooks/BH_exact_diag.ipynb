{
 "cells": [
  {
   "cell_type": "markdown",
   "id": "7def5e2f",
   "metadata": {},
   "source": [
    "# Exact diagonalization for Bose-Hubbard model"
   ]
  },
  {
   "cell_type": "markdown",
   "id": "b9831432",
   "metadata": {},
   "source": [
    "## Introduction\n",
    "\n",
    "1D [Bose-Hubbard model](https://en.wikipedia.org/wiki/Bose%E2%80%93Hubbard_model) Hamiltonian has a following form:\n",
    "$$\n",
    "\\hat{H} = J\\sum_i\\left(\\hat{a}^\\dag_{i+1}\\hat{a}_i + h.c.\\right) + \\frac{U}{2}\\sum_i\\left(\\hat{n}_i-1\\right)\\hat{n}_i\n",
    "$$\n",
    "where\n",
    "- $J$ - hopping integral\n",
    "- $U$ - on-site interaction\n",
    "- $\\hat{a}^\\dag_i$, $\\hat{a}_i$, $\\hat{n}_i$ - creation, annihilation and particle number operators for site $i$\n",
    "\n",
    "For large $U$ it describes Mott-insulator, for large $J$ it describes superfluid. For simplicity we will express energy in units of $U$, so the hopping will become $J/U$ and on-site interaction will be $1$.\n",
    "\n",
    "### Implementation\n",
    "The following is Python implementation of exact diagonalization method of Bose-Hubbard model that is based on [Exact diagonalization: the Bose–Hubbard model as an example](https://iopscience.iop.org/article/10.1088/0143-0807/31/3/016) by Zhang and Dong.\n",
    "\n",
    "I made use of [CuPy](https://docs.cupy.dev/en/stable/) package to perform calculation on GPU. The requirements to run this notebook on GPU are:\n",
    "1. Nvidia GPU with CUDA\n",
    "2. Installing CUDA Toolkit - choose correct version [here](https://developer.nvidia.com/cuda-downloads) and follow the instructions\n",
    "\n",
    "This notebook can also be run on CPU by changing `cupy` to `numpy` and removing `cupyx` from `scipy` imports."
   ]
  },
  {
   "cell_type": "markdown",
   "id": "993f78f2",
   "metadata": {},
   "source": [
    "## Imports"
   ]
  },
  {
   "cell_type": "code",
   "execution_count": 1,
   "id": "51242aaf",
   "metadata": {},
   "outputs": [],
   "source": [
    "from itertools import combinations_with_replacement as cwr\n",
    "from itertools import product\n",
    "\n",
    "import cupy as cp\n",
    "import matplotlib.pyplot as plt\n",
    "from cupyx.scipy.sparse import coo_matrix\n",
    "from cupyx.scipy.sparse.linalg import eigsh\n",
    "from scipy.special import comb\n",
    "from tqdm import tqdm # to display progress bar"
   ]
  },
  {
   "cell_type": "markdown",
   "id": "04863050",
   "metadata": {},
   "source": [
    "## Parametrization\n",
    "Typical usage is filling $\\langle n_i\\rangle=1$ which corresponds to `N==M`"
   ]
  },
  {
   "cell_type": "code",
   "execution_count": 2,
   "id": "6503d11e",
   "metadata": {},
   "outputs": [],
   "source": [
    "M = 12 # number of sites\n",
    "N = 12 # number of particles"
   ]
  },
  {
   "cell_type": "code",
   "execution_count": 3,
   "id": "cca60b91",
   "metadata": {},
   "outputs": [
    {
     "name": "stdout",
     "output_type": "stream",
     "text": [
      "Size of a Hilbert space is 1352078.\n"
     ]
    }
   ],
   "source": [
    "D = comb(M, N, exact=True, repetition=True)\n",
    "print(f\"Size of a Hilbert space is {D}.\")\n",
    "\n",
    "D_1 = comb(M, N-1, exact=True, repetition=True) # number of states with non-zero number of particles at site i (each site is the same due to translational invariance)\n",
    "next_site = cp.array([i + 1 for i in range(M)], dtype=int) # neet trick for getting next neighbours and periodic boundary conditions\n",
    "next_site[M - 1] = 0\n",
    "\n",
    "mempool = cp.get_default_memory_pool() # to be able to remove some redundant variables from GPU memory (running on CPU comment this line)"
   ]
  },
  {
   "cell_type": "markdown",
   "id": "2fbf3619",
   "metadata": {},
   "source": [
    "## Setup\n",
    "Where possible I tried to vectorize operations to take full advantage of GPU computing capabilites. For generation of kinetic part of the Hamiltonian I was able to go from 40 s in the initial implementation to 0.1 s in the optimized GPU implementation."
   ]
  },
  {
   "cell_type": "markdown",
   "id": "2bb367ce",
   "metadata": {},
   "source": [
    "### Generate states\n",
    "\n",
    "Although Zhang and Dong propose beautiful hierarchical algorithm for generation of the whole basis, `itertools` module provides method `combinations_with_replacement` which generates all multisets. $i^{\\text{th}}$ element of these multisets correponds to site of an $i^{\\text{th}}$ particle. Counting occurences of each site label gives us state in occupational basis."
   ]
  },
  {
   "cell_type": "code",
   "execution_count": 4,
   "id": "f62eced7",
   "metadata": {},
   "outputs": [
    {
     "name": "stderr",
     "output_type": "stream",
     "text": [
      "1352078it [00:02, 639358.57it/s]\n"
     ]
    },
    {
     "name": "stdout",
     "output_type": "stream",
     "text": [
      "Shape of a state vector is (1352078, 12).\n"
     ]
    }
   ],
   "source": [
    "states = []\n",
    "for multiset in tqdm(cwr(range(M), N)):\n",
    "    states.append([multiset.count(m) for m in range(M)])\n",
    "states = cp.array(states)\n",
    "print(f\"Shape of a state vector is {states.shape}.\")"
   ]
  },
  {
   "cell_type": "markdown",
   "id": "a5b7fe82",
   "metadata": {},
   "source": [
    "### Hashing trick\n",
    "As proposed in the paper, I will use hashing function\n",
    "$$T(v)=\\sum\\limits_{i=1}^M\\sqrt{100\\cdot i +3}\\cdot A_{iv}$$\n",
    "where $A_{iv}$ is occupation matrix `states`"
   ]
  },
  {
   "cell_type": "code",
   "execution_count": 5,
   "id": "936b832a",
   "metadata": {},
   "outputs": [],
   "source": [
    "weights = cp.sqrt(100 * cp.arange(1, M + 1) + 3)\n",
    "T = states @ weights\n",
    "ind = cp.arange(D, dtype=int) # keep these indices - they will be useful later\n",
    "sorting_idx = cp.argsort(T)\n",
    "T = T[sorting_idx]\n",
    "ind_sorted = ind[sorting_idx]\n",
    "eps = cp.diff(T).min()/10\n",
    "\n",
    "def get_state_idx(state):\n",
    "    global T, ind_sorted, weights, eps\n",
    "    idx = cp.searchsorted(T, (state @ weights)-eps, 'left') # in order to ensure correct index I shifted resulted hash and enforced searching tags from the left side\n",
    "    return ind_sorted[idx]                                  #   otherwise i or i+1 is a valid output - see np.searchsorted documentation for details"
   ]
  },
  {
   "cell_type": "markdown",
   "id": "57d4ea44",
   "metadata": {},
   "source": [
    "### Kinetic part of the Hamiltonian\n",
    "- `values` - result of application of $\\hat{a}^\\dag_{i+1}\\hat{a}_i$\n",
    "- `idx_u` - indices of rows\n",
    "- `idx_v` - indices of columns\n",
    "- Non-zero elements of are determined by $i$. For each $i$ we can process whole `states` matrix at once leaving only non-zero elements for this given $i$.\n",
    "- Subtracting $i^{\\text{th}}$ and adding $(i+1)^{\\text{th}}$ rows of `unit` matrix from `states` matrix gives the same effect moving particle from $i$ to $i+1$. This is made possible by the power of [broadcasting](https://numpy.org/doc/stable/user/basics.broadcasting.html)\n",
    "- hashing function gives us indices of columns efficiently"
   ]
  },
  {
   "cell_type": "code",
   "execution_count": 6,
   "id": "2a34ee4a",
   "metadata": {},
   "outputs": [
    {
     "name": "stderr",
     "output_type": "stream",
     "text": [
      "100%|██████████| 12/12 [00:00<00:00, 117.95it/s]\n"
     ]
    }
   ],
   "source": [
    "unit = cp.eye(M)\n",
    "non_zero = (states != 0).T # transpose for easier handling\n",
    "values = cp.zeros(D_1*M, dtype=\"float32\") # D_1*M is number of non-zero elements\n",
    "idx_u = cp.zeros_like(values)\n",
    "idx_v = cp.zeros_like(values)\n",
    "\n",
    "for i in tqdm(range(M)):\n",
    "    start = i*D_1\n",
    "    end = (i+1)*D_1\n",
    "    values[start: end]= cp.sqrt((states[non_zero[i], next_site[i]] + 1) * states[non_zero[i], i])\n",
    "    idx_u[start: end] = ind[non_zero[i]]\n",
    "    idx_v[start: end] = get_state_idx(states[non_zero[i], :] - unit[i] + unit[next_site[i]])"
   ]
  },
  {
   "cell_type": "markdown",
   "id": "49c88177",
   "metadata": {},
   "source": [
    "Use sparse matrix since there will be only `2*D_1*M` non-zero elemnts."
   ]
  },
  {
   "cell_type": "code",
   "execution_count": 7,
   "id": "80941327",
   "metadata": {},
   "outputs": [],
   "source": [
    "H_kin = coo_matrix((values, (idx_u, idx_v)), shape=(D, D), dtype=\"float32\")\n",
    "H_kin = H_kin + H_kin.T\n",
    "\n",
    "# free memory\n",
    "del values, idx_u, idx_v\n",
    "mempool.free_all_blocks()"
   ]
  },
  {
   "cell_type": "markdown",
   "id": "a585a5c7",
   "metadata": {},
   "source": [
    "Let's inspect pattern of non-zero elements. This is very useful tool which helped me debug why `np.searchsorted` didn't work how I expected it to work."
   ]
  },
  {
   "cell_type": "code",
   "execution_count": 8,
   "id": "c23dfa3e",
   "metadata": {},
   "outputs": [
    {
     "data": {
      "text/plain": [
       "<matplotlib.lines.Line2D at 0x726b8a541310>"
      ]
     },
     "execution_count": 8,
     "metadata": {},
     "output_type": "execute_result"
    },
    {
     "data": {
      "image/png": "[encoded data removed]",
      "text/plain": [
       "<Figure size 640x480 with 1 Axes>"
      ]
     },
     "metadata": {},
     "output_type": "display_data"
    }
   ],
   "source": [
    "plt.spy(H_kin.get(), markersize=0.1)"
   ]
  },
  {
   "cell_type": "markdown",
   "id": "ad72f0aa",
   "metadata": {},
   "source": [
    "### Interaction part of the Hamiltionan\n",
    "This is fairly straightforward."
   ]
  },
  {
   "cell_type": "code",
   "execution_count": 9,
   "id": "a40b7f65",
   "metadata": {},
   "outputs": [],
   "source": [
    "H_int = 0.5 * coo_matrix(\n",
    "    (\n",
    "        (states * (states - 1)).sum(axis=1).astype(\"float32\"),\n",
    "        (ind, ind),\n",
    "    ),\n",
    "    shape=(D, D),\n",
    ")"
   ]
  },
  {
   "cell_type": "markdown",
   "id": "cb3ddd5e",
   "metadata": {},
   "source": [
    "## Calculations\n",
    "Groundstate energy alone doesn't give us much information about the system (by itself). That's why we calculate density matrix \n",
    "$$\\rho_{i,j} = \\langle G\\mid \\hat{a}^\\dag_{i}\\hat{a}_j\\mid G \\rangle$$\n",
    "where $\\mid G\\rangle$ is groundstate eigenvector.\n",
    "\n",
    "Function `density_matrix` uses the same tricks as process of building kinetic part of the Hamiltonian. The only additional thing to note is that from the bra vector $\\langle G\\mid$ we need to choose states that have the same configuration as states in $\\hat{a}^\\dag_{i}\\hat{a}_j\\mid G \\rangle$. We get indices of those states efficiently by using hashing function in `get_state_idx` method.\n",
    "\n",
    "Using density matrix we can calculate condensate fraction\n",
    "$$\n",
    "f_c = \\frac{\\lambda_1}{N}\n",
    "$$\n",
    "where $\\lambda_1$ is largest eigenvalue of $\\rho$."
   ]
  },
  {
   "cell_type": "code",
   "execution_count": 10,
   "id": "eabf387b",
   "metadata": {},
   "outputs": [],
   "source": [
    "def density_matrix(vec):\n",
    "    global M, states, unit, non_zero\n",
    "    rho = cp.zeros((M, M))\n",
    "    for i, j in product(range(M), range(M)):\n",
    "        coef = cp.sqrt((states[non_zero[j], i] + 1) * states[non_zero[j], j])\n",
    "        idx = get_state_idx(states[non_zero[j]] - unit[j] + unit[i])\n",
    "        rho[i, j] = vec[idx, 0] @ (coef * vec[non_zero[j], 0])\n",
    "    return rho"
   ]
  },
  {
   "cell_type": "code",
   "execution_count": 11,
   "id": "ff9c296d",
   "metadata": {},
   "outputs": [
    {
     "name": "stderr",
     "output_type": "stream",
     "text": [
      "100%|██████████| 50/50 [01:30<00:00,  1.81s/it]\n"
     ]
    }
   ],
   "source": [
    "J_min = 0\n",
    "J_max = 1\n",
    "J_len = 50  # number of unique values of U in the range\n",
    "\n",
    "J_vals = cp.linspace(J_min, J_max, num=J_len)\n",
    "f_c = cp.zeros_like(J_vals)\n",
    "\n",
    "for i, J in enumerate(tqdm(J_vals)):\n",
    "    _, vec = eigsh(H_int + J * H_kin, k=1, which=\"SA\", return_eigenvectors=True)\n",
    "    rho = density_matrix(vec)\n",
    "    lamb = cp.linalg.eigvalsh(rho)[-1]\n",
    "    f_c[i] = lamb / N"
   ]
  },
  {
   "cell_type": "markdown",
   "id": "b403258b",
   "metadata": {},
   "source": [
    "## Results"
   ]
  },
  {
   "cell_type": "code",
   "execution_count": 12,
   "id": "97a3cca6",
   "metadata": {},
   "outputs": [
    {
     "data": {
      "image/png": "[encoded data removed]",
      "text/plain": [
       "<Figure size 640x480 with 1 Axes>"
      ]
     },
     "metadata": {},
     "output_type": "display_data"
    }
   ],
   "source": [
    "plt.plot(J_vals.get(), f_c.get())\n",
    "plt.xlabel(r\"$J/U$\")\n",
    "plt.ylabel(r\"$f_c$\", rotation=0)\n",
    "plt.show()"
   ]
  },
  {
   "cell_type": "code",
   "execution_count": null,
   "id": "58e2719d",
   "metadata": {},
   "outputs": [],
   "source": []
  }
 ],
 "metadata": {
  "kernelspec": {
   "display_name": "torch_venv",
   "language": "python",
   "name": "python3"
  },
  "language_info": {
   "codemirror_mode": {
    "name": "ipython",
    "version": 3
   },
   "file_extension": ".py",
   "mimetype": "text/x-python",
   "name": "python",
   "nbconvert_exporter": "python",
   "pygments_lexer": "ipython3",
   "version": "3.13.1"
  }
 },
 "nbformat": 4,
 "nbformat_minor": 5
}
