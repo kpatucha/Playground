{
 "cells": [
  {
   "cell_type": "markdown",
   "id": "7e89f48d",
   "metadata": {},
   "source": [
    "# NLTK Book solutions - Chapter 1"
   ]
  },
  {
   "cell_type": "code",
   "execution_count": 39,
   "id": "8e6af9ca",
   "metadata": {},
   "outputs": [
    {
     "name": "stderr",
     "output_type": "stream",
     "text": [
      "[nltk_data] Downloading collection 'book'\n",
      "[nltk_data]    | \n",
      "[nltk_data]    | Downloading package abc to\n",
      "[nltk_data]    |     /home/dkinvoker/nltk_data...\n",
      "[nltk_data]    |   Package abc is already up-to-date!\n",
      "[nltk_data]    | Downloading package brown to\n",
      "[nltk_data]    |     /home/dkinvoker/nltk_data...\n",
      "[nltk_data]    |   Package brown is already up-to-date!\n",
      "[nltk_data]    | Downloading package chat80 to\n",
      "[nltk_data]    |     /home/dkinvoker/nltk_data...\n",
      "[nltk_data]    |   Package chat80 is already up-to-date!\n",
      "[nltk_data]    | Downloading package cmudict to\n",
      "[nltk_data]    |     /home/dkinvoker/nltk_data...\n",
      "[nltk_data]    |   Package cmudict is already up-to-date!\n",
      "[nltk_data]    | Downloading package conll2000 to\n",
      "[nltk_data]    |     /home/dkinvoker/nltk_data...\n",
      "[nltk_data]    |   Package conll2000 is already up-to-date!\n",
      "[nltk_data]    | Downloading package conll2002 to\n",
      "[nltk_data]    |     /home/dkinvoker/nltk_data...\n",
      "[nltk_data]    |   Package conll2002 is already up-to-date!\n",
      "[nltk_data]    | Downloading package dependency_treebank to\n",
      "[nltk_data]    |     /home/dkinvoker/nltk_data...\n",
      "[nltk_data]    |   Package dependency_treebank is already up-to-date!\n",
      "[nltk_data]    | Downloading package genesis to\n",
      "[nltk_data]    |     /home/dkinvoker/nltk_data...\n",
      "[nltk_data]    |   Package genesis is already up-to-date!\n",
      "[nltk_data]    | Downloading package gutenberg to\n",
      "[nltk_data]    |     /home/dkinvoker/nltk_data...\n",
      "[nltk_data]    |   Package gutenberg is already up-to-date!\n",
      "[nltk_data]    | Downloading package ieer to\n",
      "[nltk_data]    |     /home/dkinvoker/nltk_data...\n",
      "[nltk_data]    |   Package ieer is already up-to-date!\n",
      "[nltk_data]    | Downloading package inaugural to\n",
      "[nltk_data]    |     /home/dkinvoker/nltk_data...\n",
      "[nltk_data]    |   Package inaugural is already up-to-date!\n",
      "[nltk_data]    | Downloading package movie_reviews to\n",
      "[nltk_data]    |     /home/dkinvoker/nltk_data...\n",
      "[nltk_data]    |   Package movie_reviews is already up-to-date!\n",
      "[nltk_data]    | Downloading package nps_chat to\n",
      "[nltk_data]    |     /home/dkinvoker/nltk_data...\n",
      "[nltk_data]    |   Package nps_chat is already up-to-date!\n",
      "[nltk_data]    | Downloading package names to\n",
      "[nltk_data]    |     /home/dkinvoker/nltk_data...\n",
      "[nltk_data]    |   Package names is already up-to-date!\n",
      "[nltk_data]    | Downloading package ppattach to\n",
      "[nltk_data]    |     /home/dkinvoker/nltk_data...\n",
      "[nltk_data]    |   Package ppattach is already up-to-date!\n",
      "[nltk_data]    | Downloading package reuters to\n",
      "[nltk_data]    |     /home/dkinvoker/nltk_data...\n",
      "[nltk_data]    |   Package reuters is already up-to-date!\n",
      "[nltk_data]    | Downloading package senseval to\n",
      "[nltk_data]    |     /home/dkinvoker/nltk_data...\n",
      "[nltk_data]    |   Package senseval is already up-to-date!\n",
      "[nltk_data]    | Downloading package state_union to\n",
      "[nltk_data]    |     /home/dkinvoker/nltk_data...\n",
      "[nltk_data]    |   Package state_union is already up-to-date!\n",
      "[nltk_data]    | Downloading package stopwords to\n",
      "[nltk_data]    |     /home/dkinvoker/nltk_data...\n",
      "[nltk_data]    |   Package stopwords is already up-to-date!\n",
      "[nltk_data]    | Downloading package swadesh to\n",
      "[nltk_data]    |     /home/dkinvoker/nltk_data...\n",
      "[nltk_data]    |   Package swadesh is already up-to-date!\n",
      "[nltk_data]    | Downloading package timit to\n",
      "[nltk_data]    |     /home/dkinvoker/nltk_data...\n",
      "[nltk_data]    |   Package timit is already up-to-date!\n",
      "[nltk_data]    | Downloading package treebank to\n",
      "[nltk_data]    |     /home/dkinvoker/nltk_data...\n",
      "[nltk_data]    |   Package treebank is already up-to-date!\n",
      "[nltk_data]    | Downloading package toolbox to\n",
      "[nltk_data]    |     /home/dkinvoker/nltk_data...\n",
      "[nltk_data]    |   Package toolbox is already up-to-date!\n",
      "[nltk_data]    | Downloading package udhr to\n",
      "[nltk_data]    |     /home/dkinvoker/nltk_data...\n",
      "[nltk_data]    |   Package udhr is already up-to-date!\n",
      "[nltk_data]    | Downloading package udhr2 to\n",
      "[nltk_data]    |     /home/dkinvoker/nltk_data...\n",
      "[nltk_data]    |   Package udhr2 is already up-to-date!\n",
      "[nltk_data]    | Downloading package unicode_samples to\n",
      "[nltk_data]    |     /home/dkinvoker/nltk_data...\n",
      "[nltk_data]    |   Package unicode_samples is already up-to-date!\n",
      "[nltk_data]    | Downloading package webtext to\n",
      "[nltk_data]    |     /home/dkinvoker/nltk_data...\n",
      "[nltk_data]    |   Package webtext is already up-to-date!\n",
      "[nltk_data]    | Downloading package wordnet to\n",
      "[nltk_data]    |     /home/dkinvoker/nltk_data...\n",
      "[nltk_data]    |   Package wordnet is already up-to-date!\n",
      "[nltk_data]    | Downloading package wordnet_ic to\n",
      "[nltk_data]    |     /home/dkinvoker/nltk_data...\n",
      "[nltk_data]    |   Package wordnet_ic is already up-to-date!\n",
      "[nltk_data]    | Downloading package words to\n",
      "[nltk_data]    |     /home/dkinvoker/nltk_data...\n",
      "[nltk_data]    |   Package words is already up-to-date!\n",
      "[nltk_data]    | Downloading package maxent_treebank_pos_tagger to\n",
      "[nltk_data]    |     /home/dkinvoker/nltk_data...\n",
      "[nltk_data]    |   Package maxent_treebank_pos_tagger is already up-\n",
      "[nltk_data]    |       to-date!\n",
      "[nltk_data]    | Downloading package maxent_ne_chunker to\n",
      "[nltk_data]    |     /home/dkinvoker/nltk_data...\n",
      "[nltk_data]    |   Package maxent_ne_chunker is already up-to-date!\n",
      "[nltk_data]    | Downloading package universal_tagset to\n",
      "[nltk_data]    |     /home/dkinvoker/nltk_data...\n",
      "[nltk_data]    |   Package universal_tagset is already up-to-date!\n",
      "[nltk_data]    | Downloading package punkt to\n",
      "[nltk_data]    |     /home/dkinvoker/nltk_data...\n",
      "[nltk_data]    |   Package punkt is already up-to-date!\n",
      "[nltk_data]    | Downloading package book_grammars to\n",
      "[nltk_data]    |     /home/dkinvoker/nltk_data...\n",
      "[nltk_data]    |   Package book_grammars is already up-to-date!\n",
      "[nltk_data]    | Downloading package city_database to\n",
      "[nltk_data]    |     /home/dkinvoker/nltk_data...\n",
      "[nltk_data]    |   Package city_database is already up-to-date!\n",
      "[nltk_data]    | Downloading package tagsets to\n",
      "[nltk_data]    |     /home/dkinvoker/nltk_data...\n",
      "[nltk_data]    |   Package tagsets is already up-to-date!\n",
      "[nltk_data]    | Downloading package panlex_swadesh to\n",
      "[nltk_data]    |     /home/dkinvoker/nltk_data...\n",
      "[nltk_data]    |   Package panlex_swadesh is already up-to-date!\n",
      "[nltk_data]    | Downloading package averaged_perceptron_tagger to\n",
      "[nltk_data]    |     /home/dkinvoker/nltk_data...\n",
      "[nltk_data]    |   Package averaged_perceptron_tagger is already up-\n",
      "[nltk_data]    |       to-date!\n",
      "[nltk_data]    | \n",
      "[nltk_data]  Done downloading collection book\n"
     ]
    },
    {
     "data": {
      "text/plain": [
       "True"
      ]
     },
     "execution_count": 39,
     "metadata": {},
     "output_type": "execute_result"
    }
   ],
   "source": [
    "import nltk\n",
    "nltk.download('book')"
   ]
  },
  {
   "cell_type": "code",
   "execution_count": 40,
   "id": "7ea0a08d",
   "metadata": {},
   "outputs": [],
   "source": [
    "from nltk.book import *"
   ]
  },
  {
   "cell_type": "markdown",
   "id": "bdef2a1c",
   "metadata": {},
   "source": [
    "#### 1. ☼ Try using the Python interpreter as a calculator, and typing expressions like `12 / (4 + 1)`."
   ]
  },
  {
   "cell_type": "code",
   "execution_count": 41,
   "id": "40d9b3cb",
   "metadata": {},
   "outputs": [
    {
     "data": {
      "text/plain": [
       "2.4"
      ]
     },
     "execution_count": 41,
     "metadata": {},
     "output_type": "execute_result"
    }
   ],
   "source": [
    "12 /(4 + 1)"
   ]
  },
  {
   "cell_type": "markdown",
   "id": "444f4bb9",
   "metadata": {},
   "source": [
    "#### 2. ☼ Given an alphabet of 26 letters, there are 26 to the power 10, or 26 ** 10, ten-letter strings we can form. That works out to 141167095653376. How many hundred-letter strings are possible?"
   ]
  },
  {
   "cell_type": "code",
   "execution_count": 42,
   "id": "9c1c16dc",
   "metadata": {},
   "outputs": [
    {
     "name": "stdout",
     "output_type": "stream",
     "text": [
      "There are 3142930641582938830174357788501626427282669988762475256374173175398995908420104023465432599069702289330964075081611719197835869803511992549376 hundered letter strings possible\n"
     ]
    }
   ],
   "source": [
    "print(f\"There are {26**100} hundered letter strings possible\")"
   ]
  },
  {
   "cell_type": "markdown",
   "id": "41cc1b9f",
   "metadata": {},
   "source": [
    "#### 3. ☼ The Python multiplication operation can be applied to lists. What happens when you type `['Monty', 'Python'] * 20`, or `3 * sent1`?"
   ]
  },
  {
   "cell_type": "code",
   "execution_count": 43,
   "id": "8c549629",
   "metadata": {},
   "outputs": [
    {
     "name": "stdout",
     "output_type": "stream",
     "text": [
      "Multiplication repeates list\n",
      "['Monty', 'Python', 'Monty', 'Python', 'Monty', 'Python', 'Monty', 'Python', 'Monty', 'Python', 'Monty', 'Python', 'Monty', 'Python', 'Monty', 'Python', 'Monty', 'Python', 'Monty', 'Python', 'Monty', 'Python', 'Monty', 'Python', 'Monty', 'Python', 'Monty', 'Python', 'Monty', 'Python', 'Monty', 'Python', 'Monty', 'Python', 'Monty', 'Python', 'Monty', 'Python', 'Monty', 'Python']\n",
      "['Call', 'me', 'Ishmael', '.', 'Call', 'me', 'Ishmael', '.', 'Call', 'me', 'Ishmael', '.']\n"
     ]
    }
   ],
   "source": [
    "my_list = [\"Monty\", \"Python\"]\n",
    "print(\"Multiplication repeates list\")\n",
    "print(my_list * 20)\n",
    "print(3 * sent1)"
   ]
  },
  {
   "cell_type": "markdown",
   "id": "0f04fabc",
   "metadata": {},
   "source": [
    "#### 4. ☼ Review [1](https://www.nltk.org/book/ch01.html#sec-computing-with-language-texts-and-words) on computing with language. How many words are there in `text2`? How many distinct words are there?"
   ]
  },
  {
   "cell_type": "code",
   "execution_count": 44,
   "id": "53b871e9",
   "metadata": {},
   "outputs": [
    {
     "name": "stdout",
     "output_type": "stream",
     "text": [
      "There are 141576 words in text2.\n"
     ]
    }
   ],
   "source": [
    "print(f\"There are {len(text2)} words in text2.\")"
   ]
  },
  {
   "cell_type": "markdown",
   "id": "b141d95c",
   "metadata": {},
   "source": [
    "#### 5. ☼ Compare the lexical diversity scores for humor and romance fiction in [1.1](https://www.nltk.org/book/ch01.html#tab-brown-types). Which genre is more lexically diverse?"
   ]
  },
  {
   "cell_type": "code",
   "execution_count": 45,
   "id": "56fcc3c7",
   "metadata": {},
   "outputs": [
    {
     "name": "stdout",
     "output_type": "stream",
     "text": [
      "Lexical diversity is defined as ratio of unique words to all words.\n",
      "This means that higher lexical diversity means that there are proportionally more unique words in a text.\n",
      "In the provided table humor genre from Brown Cropus has lexical diversity of 0.231 while romance genre 0.121.\n",
      "This means that humor genre has more diverse language.\n",
      "\n"
     ]
    }
   ],
   "source": [
    "print(\"\"\"Lexical diversity is defined as ratio of unique words to all words.\n",
    "This means that higher lexical diversity means that there are proportionally more unique words in a text.\n",
    "In the provided table humor genre from Brown Cropus has lexical diversity of 0.231 while romance genre 0.121.\n",
    "This means that humor genre has more diverse language.\n",
    "\"\"\")"
   ]
  },
  {
   "cell_type": "markdown",
   "id": "e8a2e8f2",
   "metadata": {},
   "source": [
    "#### 6. ☼ Produce a dispersion plot of the four main protagonists in Sense and Sensibility: Elinor, Marianne, Edward, and Willoughby. What can you observe about the different roles played by the males and females in this novel? Can you identify the couples?"
   ]
  },
  {
   "cell_type": "code",
   "execution_count": 46,
   "id": "c922cf14",
   "metadata": {},
   "outputs": [
    {
     "data": {
      "image/png": "[encoded data removed]",
      "text/plain": [
       "<Figure size 640x480 with 1 Axes>"
      ]
     },
     "metadata": {},
     "output_type": "display_data"
    }
   ],
   "source": [
    "text2.dispersion_plot([\"Elinor\", \"Marianne\", \"Edward\", \"Willoughby\"])"
   ]
  },
  {
   "cell_type": "code",
   "execution_count": 47,
   "id": "81dee8bd",
   "metadata": {},
   "outputs": [
    {
     "name": "stdout",
     "output_type": "stream",
     "text": [
      "Elinor and Marianne are mention quite often - they are probably main characters.\n",
      "Willoughby mentions seem to be correlated with mentions of Marianne which might suggest that they are a couple\n"
     ]
    }
   ],
   "source": [
    "print(\"\"\"Elinor and Marianne are mention quite often - they are probably main characters.\n",
    "Willoughby mentions seem to be correlated with mentions of Marianne which might suggest that they are a couple\"\"\")"
   ]
  },
  {
   "cell_type": "markdown",
   "id": "a5ed929d",
   "metadata": {},
   "source": [
    "#### 7. ☼ Find the collocations in `text5`."
   ]
  },
  {
   "cell_type": "code",
   "execution_count": 48,
   "id": "334ec4cc",
   "metadata": {},
   "outputs": [
    {
     "name": "stdout",
     "output_type": "stream",
     "text": [
      "wanna chat; PART JOIN; MODE #14-19teens; JOIN PART; PART PART;\n",
      "cute.-ass MP3; MP3 player; JOIN JOIN; times .. .; ACTION watches; guys\n",
      "wanna; song lasts; last night; ACTION sits; -...)...- S.M.R.; Lime\n",
      "Player; Player 12%; dont know; lez gurls; long time\n"
     ]
    }
   ],
   "source": [
    "text5.collocations()"
   ]
  },
  {
   "cell_type": "markdown",
   "id": "5d8562b9",
   "metadata": {},
   "source": [
    "#### 8. ☼ Consider the following Python expression: `len(set(text4))`. State the purpose of this expression. Describe the two steps involved in performing this computation."
   ]
  },
  {
   "cell_type": "code",
   "execution_count": 49,
   "id": "36eeaf57",
   "metadata": {},
   "outputs": [
    {
     "name": "stdout",
     "output_type": "stream",
     "text": [
      "set function returns set - collection of unique elements from iterable (text4 here).\n",
      "len function returns number of elements in an iterable which here is set(text4).\n",
      "Expression len(set(text4)) returns number of unique words in text4 which is 10200\n",
      "\n"
     ]
    }
   ],
   "source": [
    "print(f\"\"\"set function returns set - collection of unique elements from iterable (text4 here).\n",
    "len function returns number of elements in an iterable which here is set(text4).\n",
    "Expression len(set(text4)) returns number of unique words in text4 which is {len(set(text4))}\n",
    "\"\"\")"
   ]
  },
  {
   "cell_type": "markdown",
   "id": "9e91aa17",
   "metadata": {},
   "source": [
    "#### 9. ☼ Review [2](https://www.nltk.org/book/ch01.html#sec-a-closer-look-at-python-texts-as-lists-of-words) on lists and strings.\n",
    "\n",
    "1. Define a string and assign it to a variable, e.g., `my_string = 'My String'` (but put something more interesting in the string). Print the contents of this variable in two ways, first by simply typing the variable name and pressing enter, then by using the print statement.\n",
    "2. Try adding the string to itself using `my_string + my_string`, or multiplying it by a number, e.g., `my_string * 3`. Notice that the strings are joined together without any spaces. How could you fix this?"
   ]
  },
  {
   "cell_type": "code",
   "execution_count": 50,
   "id": "a813470d",
   "metadata": {},
   "outputs": [
    {
     "data": {
      "text/plain": [
       "'Lorem ipsum'"
      ]
     },
     "execution_count": 50,
     "metadata": {},
     "output_type": "execute_result"
    }
   ],
   "source": [
    "my_string = \"Lorem ipsum\"\n",
    "my_string"
   ]
  },
  {
   "cell_type": "code",
   "execution_count": 51,
   "id": "c85306a3",
   "metadata": {},
   "outputs": [
    {
     "name": "stdout",
     "output_type": "stream",
     "text": [
      "Lorem ipsum\n"
     ]
    }
   ],
   "source": [
    "print(my_string)"
   ]
  },
  {
   "cell_type": "code",
   "execution_count": 52,
   "id": "881ac165",
   "metadata": {},
   "outputs": [
    {
     "name": "stdout",
     "output_type": "stream",
     "text": [
      "Lorem ipsumLorem ipsum\n"
     ]
    }
   ],
   "source": [
    "print(my_string + my_string)"
   ]
  },
  {
   "cell_type": "code",
   "execution_count": 53,
   "id": "652036da",
   "metadata": {},
   "outputs": [
    {
     "name": "stdout",
     "output_type": "stream",
     "text": [
      "Lorem ipsum Lorem ipsum\n"
     ]
    }
   ],
   "source": [
    "print(my_string + \" \" + my_string)"
   ]
  },
  {
   "cell_type": "markdown",
   "id": "49f4e1a8",
   "metadata": {},
   "source": [
    "#### 10. ☼ Define a variable `my_sent` to be a list of words, using the syntax `my_sent = [\"My\", \"sent\"]` (but with your own words, or a favorite saying).\n",
    "\n",
    "- Use `' '.join(my_sent)` to convert this into a string.\n",
    "- Use `split()` to split the string back into the list form you had to start with."
   ]
  },
  {
   "cell_type": "code",
   "execution_count": 54,
   "id": "696174d6",
   "metadata": {},
   "outputs": [
    {
     "name": "stdout",
     "output_type": "stream",
     "text": [
      "Lorem ipsum\n",
      "['Lorem', 'ipsum']\n"
     ]
    }
   ],
   "source": [
    "my_sent = [\"Lorem\", \"ipsum\"]\n",
    "my_string = \" \".join(my_sent)\n",
    "print(my_string)\n",
    "print(my_string.split(sep=\" \"))"
   ]
  },
  {
   "cell_type": "markdown",
   "id": "061a7dc9",
   "metadata": {},
   "source": [
    "#### 11. ☼ Define several variables containing lists of words, e.g., `phrase1`, `phrase2`, and so on. Join them together in various combinations (using the plus operator) to form whole sentences. What is the relationship between `len(phrase1 + phrase2)` and `len(phrase1)` + `len(phrase2)`?"
   ]
  },
  {
   "cell_type": "code",
   "execution_count": 55,
   "id": "b9c21585",
   "metadata": {},
   "outputs": [
    {
     "name": "stdout",
     "output_type": "stream",
     "text": [
      "['There', 'is', 'no', 'try', 'Only', 'do']\n",
      "['Only', 'do', 'There', 'is', 'no', 'try']\n",
      "len(phrase1) = 4, len(phrase2) = 2.\n",
      "len(phrase1 + phrase2) = len(phrase1) + len(phrase2) == 6\n"
     ]
    }
   ],
   "source": [
    "phrase1 = [\"There\", \"is\", \"no\", \"try\"]\n",
    "phrase2 = [\"Only\", \"do\"]\n",
    "print(phrase1 + phrase2)\n",
    "print(phrase2 + phrase1)\n",
    "print(f\"len(phrase1) = {len(phrase1)}, len(phrase2) = {len(phrase2)}.\")\n",
    "print(f\"len(phrase1 + phrase2) = len(phrase1) + len(phrase2) == {len(phrase1 + phrase2)}\")"
   ]
  },
  {
   "cell_type": "markdown",
   "id": "dd0868b0",
   "metadata": {},
   "source": [
    "#### 12. ☼ Consider the following two expressions, which have the same value. Which one will typically be more relevant in NLP? Why?\n",
    "\n",
    "1. `\"Monty Python\"[6:12]`\n",
    "2. `[\"Monty\", \"Python\"][1]`"
   ]
  },
  {
   "cell_type": "code",
   "execution_count": 56,
   "id": "8af5cbba",
   "metadata": {},
   "outputs": [
    {
     "name": "stdout",
     "output_type": "stream",
     "text": [
      "Second will be tipically more relevant. First one extracts sequence of letters from longer string,\n",
      "while second one extracts particular word from a list of words.\n",
      "Letters by themselves do not carry much semantic meaning. That's why we are interested in words more than in letters.\n"
     ]
    }
   ],
   "source": [
    "print(\"\"\"Second will be tipically more relevant. First one extracts sequence of letters from longer string,\n",
    "while second one extracts particular word from a list of words.\n",
    "Letters by themselves do not carry much semantic meaning. That's why we are interested in words more than in letters.\"\"\"\n",
    ")"
   ]
  },
  {
   "cell_type": "markdown",
   "id": "064457e8",
   "metadata": {},
   "source": [
    "#### 13. ☼ We have seen how to represent a sentence as a list of words, where each word is a sequence of characters. What does `sent1[2][2]` do? Why? Experiment with other index values."
   ]
  },
  {
   "cell_type": "code",
   "execution_count": 57,
   "id": "85f6f372",
   "metadata": {},
   "outputs": [
    {
     "name": "stdout",
     "output_type": "stream",
     "text": [
      "It returns third letter of third word (zero-based indexing).\n",
      "h\n",
      "C\n",
      "['Call', 'me', 'Ishmael', '.']\n"
     ]
    }
   ],
   "source": [
    "print(\"It returns third letter of third word (zero-based indexing).\")\n",
    "print(sent1[2][2])\n",
    "print(sent1[0][0])\n",
    "print(sent1)"
   ]
  },
  {
   "cell_type": "markdown",
   "id": "a6081bd4",
   "metadata": {},
   "source": [
    "#### 14. ☼ The first sentence of `text3` is provided to you in the variable `sent3`. The index of the in `sent3` is 1, because `sent3[1]` gives us 'the'. What are the indexes of the two other occurrences of this word in `sent3`?"
   ]
  },
  {
   "cell_type": "code",
   "execution_count": 58,
   "id": "920408ae",
   "metadata": {},
   "outputs": [
    {
     "name": "stdout",
     "output_type": "stream",
     "text": [
      "Index of second occurence: 5\n"
     ]
    }
   ],
   "source": [
    "print(f\"Index of second occurence: {sent3.index(\"the\", 2)}\")"
   ]
  },
  {
   "cell_type": "code",
   "execution_count": 59,
   "id": "555c7b0b",
   "metadata": {},
   "outputs": [
    {
     "name": "stdout",
     "output_type": "stream",
     "text": [
      "Index of third occurence: 8\n"
     ]
    }
   ],
   "source": [
    "print(f\"Index of third occurence: {sent3.index(\"the\", 6)}\")"
   ]
  },
  {
   "cell_type": "markdown",
   "id": "b90552a8",
   "metadata": {},
   "source": [
    "#### 15. ☼ Review the discussion of conditionals in [4](https://www.nltk.org/book/ch01.html#sec-making-decisions). Find all words in the Chat Corpus (`text5`) starting with the letter `b`. Show them in alphabetical order."
   ]
  },
  {
   "cell_type": "code",
   "execution_count": 60,
   "id": "98fa87d8",
   "metadata": {},
   "outputs": [
    {
     "name": "stdout",
     "output_type": "stream",
     "text": [
      "b\n",
      "b-day\n",
      "b/c\n",
      "b4\n",
      "babay\n",
      "babble\n",
      "babblein\n",
      "babe\n",
      "babes\n",
      "babi\n",
      "babies\n",
      "babiess\n",
      "baby\n",
      "babycakeses\n",
      "bachelorette\n",
      "back\n",
      "backatchya\n",
      "backfrontsidewaysandallaroundtheworld\n",
      "backroom\n",
      "backup\n",
      "bacl\n",
      "bad\n",
      "bag\n",
      "bagel\n",
      "bagels\n",
      "bahahahaa\n",
      "bak\n",
      "baked\n",
      "balad\n",
      "balance\n",
      "balck\n",
      "ball\n",
      "ballin\n",
      "balls\n",
      "ban\n",
      "band\n",
      "bandito\n",
      "bandsaw\n",
      "banjoes\n",
      "banned\n",
      "baord\n",
      "bar\n",
      "barbie\n",
      "bare\n",
      "barely\n",
      "bares\n",
      "barfights\n",
      "barks\n",
      "barn\n",
      "barrel\n",
      "base\n",
      "bases\n",
      "basically\n",
      "basket\n",
      "battery\n",
      "bay\n",
      "bbbbbyyyyyyyeeeeeeeee\n",
      "bbiam\n",
      "bbl\n",
      "bbs\n",
      "bc\n",
      "be\n",
      "beach\n",
      "beachhhh\n",
      "beam\n",
      "beams\n",
      "beanbag\n",
      "beans\n",
      "bear\n",
      "bears\n",
      "beat\n",
      "beaten\n",
      "beatles\n",
      "beats\n",
      "beattles\n",
      "beautiful\n",
      "because\n",
      "beckley\n",
      "become\n",
      "bed\n",
      "bedford\n",
      "bedroom\n",
      "beeeeehave\n",
      "beeehave\n",
      "been\n",
      "beer\n",
      "before\n",
      "beg\n",
      "begin\n",
      "behave\n",
      "behind\n",
      "bein\n",
      "being\n",
      "beleive\n",
      "believe\n",
      "belive\n",
      "bell\n",
      "belly\n",
      "belong\n",
      "belongings\n",
      "ben\n",
      "bend\n",
      "benz\n",
      "bes\n",
      "beside\n",
      "besides\n",
      "best\n",
      "bet\n",
      "betrayal\n",
      "betta\n",
      "better\n",
      "between\n",
      "beuty\n",
      "bf\n",
      "bi\n",
      "biatch\n",
      "bible\n",
      "biebsa\n",
      "bied\n",
      "big\n",
      "bigest\n",
      "biggest\n",
      "biiiatch\n",
      "bike\n",
      "bikes\n",
      "bikini\n",
      "bio\n",
      "bird\n",
      "birfday\n",
      "birthday\n",
      "bisexual\n",
      "bishes\n",
      "bit\n",
      "bitch\n",
      "bitches\n",
      "bitdh\n",
      "bite\n",
      "bites\n",
      "biyatch\n",
      "biz\n",
      "bj\n",
      "black\n",
      "blade\n",
      "blah\n",
      "blank\n",
      "blankie\n",
      "blazed\n",
      "bleach\n",
      "blech\n",
      "bless\n",
      "blessings\n",
      "blew\n",
      "blind\n",
      "blinks\n",
      "bliss\n",
      "blocking\n",
      "bloe\n",
      "blood\n",
      "blooded\n",
      "bloody\n",
      "blow\n",
      "blowing\n",
      "blowjob\n",
      "blowup\n",
      "blue\n",
      "blueberry\n",
      "bluer\n",
      "blues\n",
      "blunt\n",
      "board\n",
      "bob\n",
      "bodies\n",
      "body\n",
      "boed\n",
      "boght\n",
      "boi\n",
      "boing\n",
      "boinked\n",
      "bois\n",
      "bomb\n",
      "bone\n",
      "boned\n",
      "bones\n",
      "bong\n",
      "boning\n",
      "bonus\n",
      "boo\n",
      "booboo\n",
      "boobs\n",
      "book\n",
      "boom\n",
      "boooooooooooglyyyyyy\n",
      "boost\n",
      "boot\n",
      "bootay\n",
      "booted\n",
      "boots\n",
      "booty\n",
      "border\n",
      "borderline\n",
      "bored\n",
      "boredom\n",
      "boring\n",
      "born\n",
      "born-again\n",
      "bosom\n",
      "boss\n",
      "bossy\n",
      "bot\n",
      "both\n",
      "bother\n",
      "bothering\n",
      "bottle\n",
      "bought\n",
      "bounced\n",
      "bouncer\n",
      "bouncers\n",
      "bound\n",
      "bout\n",
      "bouts\n",
      "bow\n",
      "bowl\n",
      "box\n",
      "boy\n",
      "boyfriend\n",
      "boys\n",
      "bra\n",
      "brad\n",
      "brady\n",
      "brain\n",
      "brakes\n",
      "brass\n",
      "brat\n",
      "brb\n",
      "brbbb\n",
      "bread\n",
      "break\n",
      "breaks\n",
      "breath\n",
      "breathe\n",
      "bred\n",
      "breeding\n",
      "bright\n",
      "brightened\n",
      "bring\n",
      "brings\n",
      "bro\n",
      "broke\n",
      "brooklyn\n",
      "brother\n",
      "brothers\n",
      "brought\n",
      "brown\n",
      "brrrrrrr\n",
      "bruises\n",
      "brunswick\n",
      "brwn\n",
      "btw\n",
      "bucks\n",
      "buddyyyyyy\n",
      "buff\n",
      "buffalo\n",
      "bug\n",
      "bugs\n",
      "buh\n",
      "build\n",
      "builds\n",
      "built\n",
      "bull\n",
      "bulls\n",
      "bum\n",
      "bumber\n",
      "bummer\n",
      "bumped\n",
      "bumper\n",
      "bunch\n",
      "bunny\n",
      "burger\n",
      "burito\n",
      "burned\n",
      "burns\n",
      "burp\n",
      "burpin\n",
      "burps\n",
      "burried\n",
      "burryed\n",
      "bus\n",
      "buses\n",
      "bust\n",
      "busted\n",
      "busy\n",
      "but\n",
      "butt\n",
      "butter\n",
      "butterscotch\n",
      "button\n",
      "buttons\n",
      "buy\n",
      "buying\n",
      "bwahahahahahahahahahaha\n",
      "by\n",
      "byb\n",
      "bye\n",
      "byeee\n",
      "byeeee\n",
      "byeeeeeeee\n",
      "byeeeeeeeeeeeee\n",
      "byes\n"
     ]
    }
   ],
   "source": [
    "b_words = sorted(set(word for word in text5 if word.startswith(\"b\")))\n",
    "print(*b_words, sep=\"\\n\")"
   ]
  },
  {
   "cell_type": "markdown",
   "id": "d94799a5",
   "metadata": {},
   "source": [
    "#### 16. ☼ Type the expression `list(range(10))` at the interpreter prompt. Now try `list(range(10, 20))`, `list(range(10, 20, 2))`, and `list(range(20, 10, -2))`. We will see a variety of uses for this built-in function in later chapters."
   ]
  },
  {
   "cell_type": "code",
   "execution_count": 61,
   "id": "1971afc9",
   "metadata": {},
   "outputs": [
    {
     "name": "stdout",
     "output_type": "stream",
     "text": [
      "[0, 1, 2, 3, 4, 5, 6, 7, 8, 9]\n",
      "[10, 11, 12, 13, 14, 15, 16, 17, 18, 19]\n",
      "[10, 12, 14, 16, 18]\n"
     ]
    }
   ],
   "source": [
    "print(list(range(10)))\n",
    "print(list(range(10, 20)))\n",
    "print(list(range(10, 20, 2)))"
   ]
  },
  {
   "cell_type": "markdown",
   "id": "7b9fb0bd",
   "metadata": {},
   "source": [
    "#### 17. ◑ Use `text9.index()` to find the index of the word *sunset*. You'll need to insert this word as an argument between the parentheses. By a process of trial and error, find the slice for the complete sentence that contains this word."
   ]
  },
  {
   "cell_type": "code",
   "execution_count": 62,
   "id": "d34a70e6",
   "metadata": {},
   "outputs": [
    {
     "data": {
      "text/plain": [
       "629"
      ]
     },
     "execution_count": 62,
     "metadata": {},
     "output_type": "execute_result"
    }
   ],
   "source": [
    "text9.index(\"sunset\")"
   ]
  },
  {
   "cell_type": "code",
   "execution_count": 63,
   "id": "ae299aa6",
   "metadata": {},
   "outputs": [
    {
     "name": "stdout",
     "output_type": "stream",
     "text": [
      "['THE', 'suburb', 'of', 'Saffron', 'Park', 'lay', 'on', 'the', 'sunset', 'side', 'of', 'London', ',', 'as', 'red', 'and', 'ragged', 'as', 'a', 'cloud', 'of', 'sunset', '.']\n"
     ]
    }
   ],
   "source": [
    "print(text9[621:644])"
   ]
  },
  {
   "cell_type": "markdown",
   "id": "938fe188",
   "metadata": {},
   "source": [
    "#### 18. ◑ Using list addition, and the `set` and `sorted` operations, compute the vocabulary of the sentences `sent1 ... sent8`."
   ]
  },
  {
   "cell_type": "code",
   "execution_count": 64,
   "id": "c957c5d1",
   "metadata": {},
   "outputs": [
    {
     "name": "stdout",
     "output_type": "stream",
     "text": [
      "!\n",
      ",\n",
      "-\n",
      ".\n",
      "1\n",
      "25\n",
      "29\n",
      "61\n",
      ":\n",
      "ARTHUR\n",
      "Call\n",
      "Citizens\n",
      "Dashwood\n",
      "Fellow\n",
      "God\n",
      "House\n",
      "I\n",
      "In\n",
      "Ishmael\n",
      "JOIN\n",
      "KING\n",
      "MALE\n",
      "Nov.\n",
      "PMing\n",
      "Pierre\n",
      "Representatives\n",
      "SCENE\n",
      "SEXY\n",
      "Senate\n",
      "Sussex\n",
      "The\n",
      "Vinken\n",
      "Whoa\n",
      "[\n",
      "]\n",
      "a\n",
      "and\n",
      "as\n",
      "attrac\n",
      "been\n",
      "beginning\n",
      "board\n",
      "clop\n",
      "created\n",
      "director\n",
      "discreet\n",
      "earth\n",
      "encounters\n",
      "family\n",
      "for\n",
      "had\n",
      "have\n",
      "heaven\n",
      "in\n",
      "join\n",
      "lady\n",
      "lol\n",
      "long\n",
      "me\n",
      "nonexecutive\n",
      "of\n",
      "old\n",
      "older\n",
      "people\n",
      "problem\n",
      "seeks\n",
      "settled\n",
      "single\n",
      "the\n",
      "there\n",
      "to\n",
      "will\n",
      "wind\n",
      "with\n",
      "years\n"
     ]
    }
   ],
   "source": [
    "sentences = sent1 + sent2 + sent3 + sent4 + sent5 + sent6 + sent7 + sent8\n",
    "vocabulary = sorted(set(sentences))\n",
    "print(*vocabulary, sep=\"\\n\") "
   ]
  },
  {
   "cell_type": "markdown",
   "id": "f0684bdb",
   "metadata": {},
   "source": [
    "#### 19. ◑ What is the difference between the following two lines? Which one will give a larger value? Will this be the case for other texts?\n",
    "\n",
    "```python\n",
    ">>> sorted(set(w.lower() for w in text1))\n",
    ">>> sorted(w.lower() for w in set(text1))\n",
    "```"
   ]
  },
  {
   "cell_type": "code",
   "execution_count": 65,
   "id": "246b9018",
   "metadata": {},
   "outputs": [
    {
     "name": "stdout",
     "output_type": "stream",
     "text": [
      "First one returns collection of unique words (set), all in lower case and then sorts these entries alphabetically.\n",
      "Second one returns in alphabetical order all words in text (including duplicates).\n",
      "This means that second one is larger.\n",
      "Number of elements return by first line 17231\n",
      "Number of elements return by first line 260819\n"
     ]
    }
   ],
   "source": [
    "print(\"\"\"First one returns collection of unique words (set), all in lower case and then sorts these entries alphabetically.\n",
    "Second one returns in alphabetical order all words in text (including duplicates).\n",
    "This means that second one is larger.\"\"\")\n",
    "print(f\"Number of elements return by first line {len(sorted(set(w.lower() for w in text1)))}\")\n",
    "print(f\"Number of elements return by first line {len(sorted(w.lower() for w in text1))}\")"
   ]
  },
  {
   "cell_type": "code",
   "execution_count": null,
   "id": "0dcfedc1",
   "metadata": {},
   "outputs": [],
   "source": []
  }
 ],
 "metadata": {
  "kernelspec": {
   "display_name": "venv",
   "language": "python",
   "name": "python3"
  },
  "language_info": {
   "codemirror_mode": {
    "name": "ipython",
    "version": 3
   },
   "file_extension": ".py",
   "mimetype": "text/x-python",
   "name": "python",
   "nbconvert_exporter": "python",
   "pygments_lexer": "ipython3",
   "version": "3.13.1"
  }
 },
 "nbformat": 4,
 "nbformat_minor": 5
}
