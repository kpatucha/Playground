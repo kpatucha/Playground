{
 "cells": [
  {
   "cell_type": "markdown",
   "id": "344c99d3",
   "metadata": {},
   "source": [
    "# Exact diagonalization of Bose-Hubbard model - phase diagram"
   ]
  },
  {
   "cell_type": "markdown",
   "id": "3a250314",
   "metadata": {},
   "source": [
    "## Introduction\n",
    "\n",
    "1D [Bose-Hubbard model](https://en.wikipedia.org/wiki/Bose%E2%80%93Hubbard_model) Hamiltonian has a following form:\n",
    "$$\n",
    "\\hat{H} = -J\\sum_i\\left(\\hat{a}^\\dagger_{i+1}\\hat{a}_i + h.c.\\right) + \\frac{U}{2}\\sum_i\\left(\\hat{n}_i-1\\right)\\hat{n}_i - \\mu \\sum_i\\hat{n}_i\n",
    "$$\n",
    "where\n",
    "- $J$ - hopping integral\n",
    "- $U$ - on-site interaction\n",
    "- $\\mu$ - chemical potential\n",
    "- $\\hat{a}^\\dagger_i$, $\\hat{a}_i$, $\\hat{n}_i$ - creation, annihilation and particle number operators for site $i$\n",
    "\n",
    "For large $U$ it describes Mott-insulator, for large $J$ it describes superfluid. \n",
    "\n",
    "Bose-Hubbard model conserves number of particles. This means that Hamiltonian matrix is block diagonal with blocks of different total particle number $N=\\sum_i n_i$:\n",
    "$$\n",
    "\\hat{H} = \\begin{bmatrix}\n",
    "& \\\\\n",
    "\\ddots & \\ddots & \\ddots & \\ddots\\\\\n",
    "\\dots & 0 & \\hat{h}_{N-1}-\\mu(N-1) & 0 & \\dots \\\\\n",
    " & \\dots & 0 & \\hat{h}_N-\\mu N & 0 & \\dots \\\\\n",
    " & & \\dots & 0 & \\hat{h}_{N+1}-\\mu(N+1) & 0 & \\dots \\\\\n",
    " & & & \\ddots & \\ddots & \\ddots & \\ddots\\\\\n",
    " &\n",
    "\\end{bmatrix}\n",
    "$$\n",
    "where\n",
    "$$\n",
    "\\hat{h}_N = -J\\sum_i\\left(\\hat{a}^\\dagger_{i+1}\\hat{a}_i + h.c.\\right) + \\frac{U}{2}\\sum_i\\left(\\hat{n}_i-1\\right)\\hat{n}_i\n",
    "$$\n",
    "acts on a subspace with $N$ particles.\n",
    "\n",
    "In order to find groundstate of Bose-Hubbard hamiltonian we can do the following:\n",
    "1. find groundstates $|G_N\\rangle$ it's energy $E^{(0)}_N$ of $\\hat{h}_N$ matrices with all relevant $N$\n",
    "2. subtract $\\mu N$ from each of them\n",
    "3. find the smallest value among all $E^{(0)}_N-\\mu N$\n",
    "\n",
    "In the limit of $J=0$ the groundstate is Mott insulator\n",
    "$$\n",
    "|\\text{MI}_n\\rangle = \\prod_l\\frac{\\left(\\hat{a}^\\dagger_l\\right)^n}{\\sqrt{n}}|\\text{vac}\\rangle.\n",
    "$$\n",
    "It is characterized by integer number of particles per site $\\langle n \\rangle$ (the on-site interaction $U$ favors uniform density and penalizes multiple occupations of individual sites). Depending on value of $\\mu/U$ it will be different integer - to be precise $\\langle n \\rangle = \\lceil \\mu/U \\rceil$ ($\\lceil x \\rceil$ is ceiling function).\n",
    "\n",
    "The lowest lying excitations in Mott insulator is:\n",
    "- single particle \"on top of\" Mott insulator\n",
    "- or single hole (\"one particle less\") in Mott insulator\n",
    "\n",
    "When there are $M$ sites and $N = \\langle n\\rangle M$ particles in Mott insulator state, these excited states belong to subspace with different particles number - $N+1$ and $N-1$ respectively.\n",
    "\n",
    "At superfluid-Mott insulator transition the energy gap (energy difference between groundstate and first excited state) becomes $0$. This means that for given $J$ we can find critical value $\\mu_c$ using condition for closing of energy gap:\n",
    "$$\n",
    "\\begin{split}\n",
    "E_N^{(0)} -\\mu N &= E_{N+1}^{(0)} - \\mu(N+1)\\text{, for particle excitation}\\\\\n",
    "E_N^{(0)} -\\mu N &= E_{N+1}^{(0)} - \\mu(N-1)\\text{, for hole excitation}\n",
    "\\end{split}\n",
    "$$\n",
    "The solutions to these equations are:\n",
    "$$\n",
    "\\begin{split}\n",
    "\\mu_c &= E_{N+1}^{(0)} - E_{N}^{(0)}\\text{, for particle excitation} \\\\\n",
    "\\mu_c &= E_N^{(0)} - E_{N-1}^{(0)}\\text{, for hole excitiation} \n",
    "\\end{split}\n",
    "$$\n",
    "This means that in order to find line of phase transition between superfluid and Mott insulator with given particle number we need to find only lowest eigenvalue of three $\\hat{h}$ matrices with $N$, $N+1$ and $N-1$ for each value of $J$.\n",
    "In finite systems (finite $M$) this method maybe not accurate in some regions of phase diagram.\n",
    "\n",
    "As usual we will express all energies in units of $U$ (equivalent to setting $U=1$).\n",
    "\n",
    "### Implementation\n",
    "The following uses class `ModelBH` - implementation of exact diagonalization method of Bose-Hubbard model that is based on [Exact diagonalization: the Bose–Hubbard model as an example](https://iopscience.iop.org/article/10.1088/0143-0807/31/3/016) by Zhang and Dong.\n",
    "\n",
    "I made use of [CuPy](https://docs.cupy.dev/en/stable/) package to perform calculation on GPU. The requirements to run this notebook on GPU are:\n",
    "1. Nvidia GPU with CUDA\n",
    "2. Installing CUDA Toolkit - choose correct version [here](https://developer.nvidia.com/cuda-downloads) and follow the instructions\n",
    "\n",
    "This notebook can also be run on CPU by changing `cupy` to `numpy` and removing `cupyx` from `scipy` imports."
   ]
  },
  {
   "cell_type": "markdown",
   "id": "8604fb7d",
   "metadata": {},
   "source": [
    "## Imports"
   ]
  },
  {
   "cell_type": "code",
   "execution_count": 1,
   "id": "8cd924e4",
   "metadata": {},
   "outputs": [],
   "source": [
    "from itertools import combinations_with_replacement as cwr\n",
    "from itertools import product\n",
    "\n",
    "import cupy as cp\n",
    "import matplotlib.pyplot as plt\n",
    "import numpy as np\n",
    "from cupyx.scipy.sparse import csr_matrix\n",
    "from cupyx.scipy.sparse.linalg import eigsh\n",
    "from scipy.special import comb\n",
    "from tqdm import tqdm"
   ]
  },
  {
   "cell_type": "markdown",
   "id": "c871b525",
   "metadata": {},
   "source": [
    "## Parametrization"
   ]
  },
  {
   "cell_type": "code",
   "execution_count": 2,
   "id": "73b09c69",
   "metadata": {},
   "outputs": [],
   "source": [
    "N = 13  # number of particles in Mott state\n",
    "M = 13  # number of sites\n",
    "\n",
    "U = 1\n",
    "J_min = 0\n",
    "J_max = 0.3\n",
    "n_J = 50  # number of points along J axis"
   ]
  },
  {
   "cell_type": "markdown",
   "id": "ae5a5d3f",
   "metadata": {},
   "source": [
    "## `ModelBH` class\n",
    "For convenience this is implempted in OOP fashion. For detailed explanation of calculation check out my other [notebook](https://github.com/kpatucha/Playground/blob/main/notebooks/BH_exact_diag.ipynb)."
   ]
  },
  {
   "cell_type": "code",
   "execution_count": 3,
   "id": "c6afafae",
   "metadata": {},
   "outputs": [],
   "source": [
    "# wrapper to free unused GPU memory\n",
    "def free_gpu_memory(func):\n",
    "    def wrapper_func(*args, **kwargs):\n",
    "        retval = func(*args, **kwargs)\n",
    "        cp._default_memory_pool.free_all_blocks()\n",
    "        return retval\n",
    "\n",
    "    return wrapper_func\n",
    "\n",
    "\n",
    "class ModelBH:\n",
    "    def __init__(\n",
    "        self, N: int, M: int, J: float = None, U: float = None, preserve_gs=False\n",
    "    ):\n",
    "        self.N = N\n",
    "        self.M = M\n",
    "        self.D = comb(self.M, self.N, exact=True, repetition=True)\n",
    "        self._D_n0 = comb(self.M, self.N - 1, exact=True, repetition=True)\n",
    "\n",
    "        self._J = J\n",
    "        self._U = U\n",
    "\n",
    "        self.basis_states = None\n",
    "\n",
    "        self._weights = None\n",
    "        self._tag_eps = None\n",
    "        self._ind = None\n",
    "        self._sorted_ind = None\n",
    "        self._sorted_tags = None\n",
    "\n",
    "        self.H_kin = None\n",
    "        self.H_int = None\n",
    "\n",
    "        self.eigenstates = None\n",
    "        self.eigenvalues = None\n",
    "        self._v0 = None\n",
    "        self.preserve_gs = preserve_gs  # since we usually change J or U only by small amount groundstate is very similar - we can pass previous groundstate to Lanczos algorithm to make convergence faster\n",
    "\n",
    "        self.f_c = None\n",
    "\n",
    "    @property\n",
    "    def J(self):\n",
    "        return self._J\n",
    "\n",
    "    @J.setter\n",
    "    @free_gpu_memory\n",
    "    def J(self, value):\n",
    "        if self.preserve_gs and self.eigenstates is not None:\n",
    "            self._v0 = self.groundstate.copy()  # to start Lanczos with decent vector\n",
    "        self.eigenstates = None\n",
    "        self.eigenvalues = None\n",
    "        self.f_c = None\n",
    "        self._J = value\n",
    "\n",
    "    @J.deleter\n",
    "    def J(self):\n",
    "        del self.J\n",
    "\n",
    "    @property\n",
    "    def U(self):\n",
    "        return self._U\n",
    "\n",
    "    @U.setter\n",
    "    @free_gpu_memory\n",
    "    def U(self, value):\n",
    "        if self.preserve_gs and self.eigenstates is not None:\n",
    "            self._v0 = self.groundstate.copy()\n",
    "        self.eigenstates = None\n",
    "        self.eigenvalues = None\n",
    "        self.f_c = None\n",
    "        self._U = value\n",
    "\n",
    "    @U.deleter\n",
    "    def U(self):\n",
    "        del self.U\n",
    "\n",
    "    @property\n",
    "    def groundstate(self):\n",
    "        assert self.eigenstates is not None\n",
    "        return self.eigenstates[:, 0]\n",
    "\n",
    "    @property\n",
    "    def groundstate_energy(self):\n",
    "        assert self.eigenvalues is not None\n",
    "        return self.eigenvalues[0]\n",
    "\n",
    "    def tag(self, states):\n",
    "        return states @ self._weights\n",
    "\n",
    "    @free_gpu_memory\n",
    "    def _generate_lookup_table(self):\n",
    "        self._ind = cp.arange(self.D, dtype=int)\n",
    "        self._weights = cp.sqrt(100 * cp.arange(1, self.M + 1) + 3)\n",
    "\n",
    "        basis_tags = self.tag(self.basis_states)\n",
    "        sorting_idx = cp.argsort(basis_tags)\n",
    "        self._sorted_tags = basis_tags[sorting_idx]\n",
    "        self._sorted_ind = self._ind[sorting_idx]\n",
    "        self._tag_eps = cp.diff(self._sorted_tags).min() / 10\n",
    "\n",
    "    @free_gpu_memory\n",
    "    def generate_basis_states(self):\n",
    "        self.next_site = cp.arange(1, self.M + 1, dtype=int)\n",
    "        self.next_site[-1] = 0\n",
    "\n",
    "        self.basis_states = cp.array(\n",
    "            [\n",
    "                [multiset.count(m) for m in range(self.M)]\n",
    "                for multiset in tqdm(cwr(range(self.M), self.N))\n",
    "            ]\n",
    "        )\n",
    "\n",
    "        self._generate_lookup_table()\n",
    "\n",
    "        self.unit = cp.eye(self.M)\n",
    "        self.nonzero = (self.basis_states != 0).T\n",
    "\n",
    "        print(\"States generated\")\n",
    "\n",
    "    def state_ind(self, states):\n",
    "        return self._sorted_ind[\n",
    "            cp.searchsorted(self._sorted_tags, self.tag(states) - self._tag_eps, \"left\")\n",
    "        ]\n",
    "\n",
    "    def hop(self, states, i, j):\n",
    "        return (\n",
    "            cp.sqrt((states[:, j] + 1) * states[:, i]),\n",
    "            states - self.unit[i] + self.unit[j],\n",
    "        )\n",
    "\n",
    "    @free_gpu_memory\n",
    "    def build_hamiltonian(self):\n",
    "        if self.basis_states is None:\n",
    "            self.generate_basis_states()\n",
    "\n",
    "        values = cp.zeros(self._D_n0 * self.M, dtype=\"float32\")\n",
    "        idx_u = cp.zeros_like(values)\n",
    "        idx_v = cp.zeros_like(values)\n",
    "\n",
    "        for i in tqdm(range(self.M)):\n",
    "            start = i * self._D_n0\n",
    "            end = (i + 1) * self._D_n0\n",
    "            coef, states_j = self.hop(\n",
    "                self.basis_states[self.nonzero[i]], i, self.next_site[i]\n",
    "            )\n",
    "            values[start:end] = coef\n",
    "            idx_u[start:end] = self._ind[self.nonzero[i]]\n",
    "            idx_v[start:end] = self.state_ind(states_j)\n",
    "\n",
    "        H_kin = csr_matrix(\n",
    "            (values, (idx_u, idx_v)), shape=(self.D, self.D), dtype=\"float32\"\n",
    "        )\n",
    "        self.H_kin = H_kin + H_kin.T\n",
    "\n",
    "        self.H_int = 0.5 * csr_matrix(\n",
    "            (\n",
    "                (self.basis_states * (self.basis_states - 1))\n",
    "                .sum(axis=1)\n",
    "                .astype(\"float32\"),\n",
    "                (self._ind, self._ind),\n",
    "            ),\n",
    "            shape=(self.D, self.D),\n",
    "        )\n",
    "        print(\"Matrices generated\")\n",
    "\n",
    "    @free_gpu_memory\n",
    "    def diagonalize(self, k=1, **kwargs):\n",
    "        assert (self.J is not None) and (self.U is not None)\n",
    "        assert (self.H_kin is not None) and (self.H_int is not None)\n",
    "\n",
    "        eigsh_config = {\"k\": k, \"v0\": self._v0, \"which\": \"SA\"}\n",
    "        eigsh_config.update(**kwargs)\n",
    "        \n",
    "        self.eigenvalues, self.eigenstates = eigsh(\n",
    "            -self.J * self.H_kin + self.U * self.H_int, **eigsh_config\n",
    "        )\n",
    "\n",
    "    def density_matrix(self, vec):\n",
    "        assert self.basis_states is not None\n",
    "        rho = cp.zeros((self.M, self.M))\n",
    "        for i, j in product(range(self.M), range(self.M)):\n",
    "            coef, states_j = self.hop(self.basis_states[self.nonzero[i]], i, j)\n",
    "            idx = self.state_ind(states_j)\n",
    "            rho[i, j] = vec[idx] @ (coef * vec[self.nonzero[i]])\n",
    "        return rho\n",
    "\n",
    "    def calculate_condensate_fraction(self):\n",
    "        assert self.groundstate is not None\n",
    "        rho = self.density_matrix(self.groundstate)\n",
    "        vals = cp.linalg.eigvalsh(rho)\n",
    "        self.f_c = vals[0].get() / self.N"
   ]
  },
  {
   "cell_type": "markdown",
   "id": "bce9188e",
   "metadata": {},
   "source": [
    "## Setup"
   ]
  },
  {
   "cell_type": "code",
   "execution_count": 4,
   "id": "eb482d43",
   "metadata": {},
   "outputs": [
    {
     "name": "stdout",
     "output_type": "stream",
     "text": [
      "Subspace with N=13 - Mott insulator\n"
     ]
    },
    {
     "name": "stderr",
     "output_type": "stream",
     "text": [
      "5200300it [00:08, 611897.47it/s]\n"
     ]
    },
    {
     "name": "stdout",
     "output_type": "stream",
     "text": [
      "States generated\n"
     ]
    },
    {
     "name": "stderr",
     "output_type": "stream",
     "text": [
      "100%|██████████| 13/13 [00:00<00:00, 28.49it/s]\n"
     ]
    },
    {
     "name": "stdout",
     "output_type": "stream",
     "text": [
      "Matrices generated\n",
      "\n",
      "Subspace with N=12 - hole excitation\n"
     ]
    },
    {
     "name": "stderr",
     "output_type": "stream",
     "text": [
      "2704156it [00:04, 652452.36it/s]\n"
     ]
    },
    {
     "name": "stdout",
     "output_type": "stream",
     "text": [
      "States generated\n"
     ]
    },
    {
     "name": "stderr",
     "output_type": "stream",
     "text": [
      "100%|██████████| 13/13 [00:00<00:00, 68.06it/s]\n"
     ]
    },
    {
     "name": "stdout",
     "output_type": "stream",
     "text": [
      "Matrices generated\n",
      "\n",
      "Subspace with N=14 - particle excitation\n"
     ]
    },
    {
     "name": "stderr",
     "output_type": "stream",
     "text": [
      "9657700it [00:16, 578152.11it/s]\n"
     ]
    },
    {
     "name": "stdout",
     "output_type": "stream",
     "text": [
      "States generated\n"
     ]
    },
    {
     "name": "stderr",
     "output_type": "stream",
     "text": [
      "100%|██████████| 13/13 [00:00<00:00, 14.99it/s]\n"
     ]
    },
    {
     "name": "stdout",
     "output_type": "stream",
     "text": [
      "Matrices generated\n"
     ]
    }
   ],
   "source": [
    "J_range = cp.linspace(J_min, J_max, num=n_J)\n",
    "mu_m1_range = cp.zeros_like(J_range)\n",
    "mu_p1_range = cp.zeros_like(J_range)\n",
    "\n",
    "print(f\"Subspace with N={N} - Mott insulator\")\n",
    "model = ModelBH(N=N, M=M, preserve_gs=True)\n",
    "model.build_hamiltonian()\n",
    "model.U = U\n",
    "print()\n",
    "\n",
    "print(f\"Subspace with N={N-1} - hole excitation\")\n",
    "model_m1 = ModelBH(N=N - 1, M=M, preserve_gs=True)\n",
    "model_m1.build_hamiltonian()\n",
    "model_m1.U = U\n",
    "print()\n",
    "\n",
    "print(f\"Subspace with N={N+1} - particle excitation\")\n",
    "model_p1 = ModelBH(N=N + 1, M=M, preserve_gs=True)\n",
    "model_p1.build_hamiltonian()\n",
    "model_p1.U = U"
   ]
  },
  {
   "cell_type": "markdown",
   "id": "6464b11e",
   "metadata": {},
   "source": [
    "## Find critical line"
   ]
  },
  {
   "cell_type": "code",
   "execution_count": 5,
   "id": "2bc1841d",
   "metadata": {},
   "outputs": [
    {
     "name": "stderr",
     "output_type": "stream",
     "text": [
      "100%|██████████| 50/50 [07:46<00:00,  9.33s/it]\n"
     ]
    }
   ],
   "source": [
    "for i, J in enumerate(tqdm(J_range)):\n",
    "    model.J = J\n",
    "    model_m1.J = J\n",
    "    model_p1.J = J\n",
    "\n",
    "    model.diagonalize()\n",
    "    model_m1.diagonalize()\n",
    "    model_p1.diagonalize()\n",
    "\n",
    "    mu_m1_range[i] = model.groundstate_energy - model_m1.groundstate_energy\n",
    "    mu_p1_range[i] = model_p1.groundstate_energy - model.groundstate_energy\n",
    "\n",
    "# Transfer to numpy\n",
    "mu_m1_range = mu_m1_range.get()\n",
    "mu_p1_range = mu_p1_range.get()\n",
    "J_range = J_range.get()"
   ]
  },
  {
   "cell_type": "markdown",
   "id": "011eff34",
   "metadata": {},
   "source": [
    "## Results\n",
    "We can compare results to strong coupling expansion by [Freericks and Monien](https://site.physics.georgetown.edu/~jkf/publications/boson_epl_draft_1994.pdf) up to the second order."
   ]
  },
  {
   "cell_type": "code",
   "execution_count": 6,
   "id": "76e7645e",
   "metadata": {},
   "outputs": [],
   "source": [
    "# critical line for particle excitation in strong coupling expansion in 2nd order\n",
    "def mu_p(J, n, U, z=2, e_min=-2):\n",
    "    return (\n",
    "        n\n",
    "        + (n + 1) * J / U * e_min\n",
    "        - n * (n + 1) * (J / U * e_min) ** 2\n",
    "        + n * z / 2 * (5 * n + 4) * (J / U) ** 2\n",
    "    )\n",
    "\n",
    "\n",
    "# critical line for hole excitiation in strong coupling expansion in 2nd order\n",
    "def mu_h(J, n, U, z=2, e_min=-2):\n",
    "    return (\n",
    "        n\n",
    "        - 1\n",
    "        - n * J / U * e_min\n",
    "        + n * (n + 1) * (J / U * e_min) ** 2\n",
    "        - (n + 1) * z / 2 * (5 * n + 1) * (J / U) ** 2\n",
    "    )"
   ]
  },
  {
   "cell_type": "code",
   "execution_count": 7,
   "id": "99a1baf0",
   "metadata": {},
   "outputs": [
    {
     "data": {
      "image/png": "[encoded data removed]",
      "text/plain": [
       "<Figure size 640x480 with 1 Axes>"
      ]
     },
     "metadata": {},
     "output_type": "display_data"
    }
   ],
   "source": [
    "plt.plot(mu_m1_range, J_range, color=\"C0\", label=\"Exact diagonalization\")\n",
    "plt.plot(mu_p1_range, J_range, color=\"C0\")\n",
    "\n",
    "J_range_sc = np.linspace(\n",
    "    0, 0.2, endpoint=True\n",
    ")  # for strong coupling expansion in 2nd order at J=0.2 both branches meet\n",
    "\n",
    "plt.plot(\n",
    "    mu_h(J_range_sc, N / M, U),\n",
    "    J_range_sc,\n",
    "    color=\"C1\",\n",
    "    label=\"Strong coupling expansion\",\n",
    ")\n",
    "plt.plot(mu_p(J_range_sc, N / M, U), J_range_sc, color=\"C1\")\n",
    "\n",
    "plt.xlim(0, 1)\n",
    "plt.ylim(0, 0.3)\n",
    "plt.xlabel(r\"$\\mu/U$\")\n",
    "plt.ylabel(r\"J/U\", rotation=0)\n",
    "plt.legend()\n",
    "plt.show()"
   ]
  },
  {
   "cell_type": "markdown",
   "id": "c47d86d2",
   "metadata": {},
   "source": [
    "Near particle-hole symmetry exact diagonalization for finite system doesn't capture phase transition correctly. This is due to the fact that excitation of a single particle or hole is significant part of the whole system in finite system (aka *not infinitesimally small* as in infinite system). Nevertheless, exact diagonalization correctly captures reentrant behaviour (backwards bend of hole transition line) of 1D Bose-Hubbard model which is not captured by strong coupling expansion in 2nd order."
   ]
  },
  {
   "cell_type": "markdown",
   "id": "32840ce1",
   "metadata": {},
   "source": []
  }
 ],
 "metadata": {
  "kernelspec": {
   "display_name": "torch_venv",
   "language": "python",
   "name": "python3"
  },
  "language_info": {
   "codemirror_mode": {
    "name": "ipython",
    "version": 3
   },
   "file_extension": ".py",
   "mimetype": "text/x-python",
   "name": "python",
   "nbconvert_exporter": "python",
   "pygments_lexer": "ipython3",
   "version": "3.13.1"
  }
 },
 "nbformat": 4,
 "nbformat_minor": 5
}
