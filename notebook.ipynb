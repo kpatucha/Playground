{
 "cells": [
  {
   "cell_type": "markdown",
   "metadata": {},
   "source": [
    "# Comparison of Kullback-Leibler estimators"
   ]
  },
  {
   "cell_type": "markdown",
   "metadata": {},
   "source": [
    "## Load packages"
   ]
  },
  {
   "cell_type": "code",
   "execution_count": 2,
   "metadata": {},
   "outputs": [],
   "source": [
    "import numpy as np\n",
    "import functools\n",
    "import matplotlib.pyplot as plt\n",
    "from scipy.spatial import KDTree\n",
    "from typing import Literal\n",
    "from sklearn.preprocessing import KBinsDiscretizer "
   ]
  },
  {
   "cell_type": "markdown",
   "metadata": {},
   "source": [
    "## Empirical CDF estimator\n",
    "\n",
    "Proposed by [Fernando Pérez-Cruz](https://ieeexplore.ieee.org/document/4595271)\n",
    "\n",
    "Implementation based on post by [kjetil b halvorsen](https://stats.stackexchange.com/questions/211175/kullback-leibler-divergence-for-two-samples/248657#248657)\n",
    "with Run Length Encoding code by [Thomas Browne](https://stackoverflow.com/a/32681075)"
   ]
  },
  {
   "cell_type": "code",
   "execution_count": 3,
   "metadata": {},
   "outputs": [],
   "source": [
    "def rle(inarray):\n",
    "    \"\"\"Run Length Encoding. Doesn't perform sort internally.\n",
    "\n",
    "    Parameters\n",
    "    ----------\n",
    "    inarray : 1d array-like\n",
    "        Array to be encoded.\n",
    "\n",
    "    Returns\n",
    "    -------\n",
    "    z : np.ndarray\n",
    "        Run lengths\n",
    "    p : np.ndarray\n",
    "        Positions\n",
    "    v : np.ndarray\n",
    "        Values\n",
    "    \"\"\"\n",
    "    ia = np.asarray(inarray)  # force numpy\n",
    "    n = len(ia)\n",
    "    if n == 0:\n",
    "        return (None, None, None)\n",
    "    else:\n",
    "        y = ia[1:] != ia[:-1]  # pairwise unequal (string safe)\n",
    "        i = np.append(np.where(y), n - 1)  # must include last element posi\n",
    "        z = np.diff(np.append(-1, i))  # run lengths\n",
    "        p = np.cumsum(np.append(0, z))[:-1]  # positions\n",
    "        return (z, p, ia[i])"
   ]
  },
  {
   "cell_type": "code",
   "execution_count": 4,
   "metadata": {},
   "outputs": [],
   "source": [
    "def ecdf(X, X_min=None, X_max=None):\n",
    "    \"\"\"Empirical CDF (cumulative distribution funciton) from random sample.\n",
    "\n",
    "    Continous approximation via linear interpolation.\\n\n",
    "    Returns function which can be used to get value of empirical CDF for any point.\n",
    "\n",
    "    Parameters\n",
    "    ----------\n",
    "    X : 1d array-like\n",
    "        Random sample\n",
    "    X_min : float, default=None\n",
    "        Left limit of the domain\n",
    "    X_max : 1d array-like, default=None\n",
    "        Right limit of the domain\n",
    "\n",
    "    Returns\n",
    "    -------\n",
    "    cdf : function\n",
    "        Empirical CDF\n",
    "    \"\"\"\n",
    "    X = np.asarray(X, copy=True)\n",
    "    n = len(X)\n",
    "    X.sort()\n",
    "\n",
    "    X_u = np.unique(X)\n",
    "    # In case there are duplicates perform rle\n",
    "    if n != len(X_u):\n",
    "        X_rle, _, _ = rle(X)\n",
    "    else:\n",
    "        X_rle = np.ones_like(X)\n",
    "\n",
    "    # Points going through middle of step function centered at points from the sample (in case duplicates stacked steps)\n",
    "    y = (np.cumsum(X_rle) - 0.5 * X_rle) / n\n",
    "    # Attach left and right limit for proper interpolation\n",
    "    if (X_min is not None) and (X_u[0] != X_min):\n",
    "        X_u = np.concatenate([[X_min], X_u])\n",
    "        y = np.concatenate([[0], y])\n",
    "    if (X_max is not None) and (X_u[-1] != X_max):\n",
    "        X_u = np.concatenate([X_u, [X_max]])\n",
    "        y = np.concatenate([y, [1]])\n",
    "        \n",
    "    return functools.partial(np.interp, xp=X_u, fp=y, left=0, right=1)"
   ]
  },
  {
   "cell_type": "code",
   "execution_count": 5,
   "metadata": {},
   "outputs": [],
   "source": [
    "def kl_div(X, Y, eps=None, num_instab: Literal[\"warning\", \"ignore\"] = \"warning\"):\n",
    "    \"\"\"Kullback-Leibler divergence (relative entropy) estimator.\n",
    "\n",
    "    According to Perez-Cruz algorithm using empirical CDFs.\n",
    "\n",
    "    Parameters\n",
    "    ----------\n",
    "    X : 1d array-like\n",
    "        Random sample (\"true\" distribution).\n",
    "    Y : 1d array-like\n",
    "        Random sample (\"model\" distribution).\n",
    "    eps : float, default=None\n",
    "        epsilon for calculation of CDFs differential.\n",
    "    num_instab : {'warning', 'ignore'}, default='warning'\n",
    "        How to handle numerical instability caused by close to horizontal CDF of Y.\n",
    "\n",
    "    Returns\n",
    "    -------\n",
    "    kl_div : float\n",
    "        Estimation of Kullback-Leibler divergence.\n",
    "    \"\"\"\n",
    "    # Force numpy array\n",
    "    X = np.asarray(X, copy=True)\n",
    "    Y = np.asarray(Y, copy=True)\n",
    "\n",
    "    if eps is None:\n",
    "        # Calculate epsilon two times smaller than smallest spacing between points in each random sample\n",
    "        X_u = np.unique(X)\n",
    "        X_u.sort()\n",
    "        Y_u = np.unique(Y)\n",
    "        Y_u.sort()\n",
    "        dx = np.diff(X_u)\n",
    "        dy = np.diff(Y_u)\n",
    "        eps = np.concat([dx, dy]).min() / 2\n",
    "\n",
    "    tot_domain = np.concat([X, Y])\n",
    "    tot_min = tot_domain.min() - eps\n",
    "    tot_max = tot_domain.max()\n",
    "\n",
    "    # \"Stretch\" Q CDF to avoid division by zero\n",
    "    P = ecdf(X)\n",
    "    Q = ecdf(Y, X_min=tot_min, X_max=tot_max)\n",
    "\n",
    "    dP = P(X) - P(X - eps)\n",
    "    dQ = Q(X) - Q(X - eps)\n",
    "\n",
    "    mask_dP = dP != 0.0\n",
    "    mask_dQ = dQ != 0.0\n",
    "    mask = mask_dP & mask_dQ\n",
    "\n",
    "    # Raise warning\n",
    "    if num_instab == \"warning\":\n",
    "        if (problems := (~mask_dQ).sum()) != 0:\n",
    "            print(\n",
    "                f\"{problems} point removed due to zeros encounter in dQ. This suggests numerical instability - return value might not be reliable. Try dividing sample in few parts and taking average result.\"\n",
    "            )\n",
    "\n",
    "    # Non-singular elemnts\n",
    "    odds = dP[mask] / dQ[mask]\n",
    "    # Include zeros of dP - since they contribute 0, we need to only modify normalization n\n",
    "    n = len(odds) + (~mask_dP).sum()\n",
    "    result = np.log(odds).sum() / n - 1\n",
    "\n",
    "    # Force non-negative result\n",
    "    return max(result, 0)"
   ]
  },
  {
   "cell_type": "markdown",
   "metadata": {},
   "source": [
    "## knn estimator\n",
    "\n",
    "Proposed by [Wang et al.](https://ieeexplore.ieee.org/document/4839047)\n",
    "\n",
    "Code by [Nathan Hartland](https://github.com/nhartland/KL-divergence-estimators/tree/master)"
   ]
  },
  {
   "cell_type": "code",
   "execution_count": 6,
   "metadata": {},
   "outputs": [],
   "source": [
    "def verify_sample_shapes(s1, s2, k):\n",
    "    # Expects [N, D]\n",
    "    assert len(s1.shape) == len(s2.shape) == 2\n",
    "    # Check dimensionality of sample is identical\n",
    "    assert s1.shape[1] == s2.shape[1]\n",
    "    \n",
    "def scipy_estimator(s1, s2, k=1):\n",
    "    \"\"\"KL-Divergence estimator using scipy's KDTree\n",
    "    s1: (N_1,D) Sample drawn from distribution P\n",
    "    s2: (N_2,D) Sample drawn from distribution Q\n",
    "    k: Number of neighbours considered (default 1)\n",
    "    return: estimated D(P|Q)\n",
    "    \"\"\"\n",
    "    verify_sample_shapes(s1, s2, k)\n",
    "\n",
    "    n, m = len(s1), len(s2)\n",
    "    d = float(s1.shape[1])\n",
    "    D = np.log(m / (n - 1))\n",
    "\n",
    "    nu_d, _ = KDTree(s2).query(s1, k)\n",
    "    rho_d, _ = KDTree(s1).query(s1, k + 1)\n",
    "\n",
    "    # KTree.query returns different shape in k==1 vs k > 1\n",
    "    if k > 1:\n",
    "        D += (d / n) * np.sum(np.log(nu_d[::, -1] / rho_d[::, -1]))\n",
    "    else:\n",
    "        D += (d / n) * np.sum(np.log(nu_d / rho_d[::, -1]))\n",
    "\n",
    "    return max(D, 0)"
   ]
  },
  {
   "cell_type": "markdown",
   "metadata": {},
   "source": [
    "## Binning estimator"
   ]
  },
  {
   "cell_type": "code",
   "execution_count": 7,
   "metadata": {},
   "outputs": [],
   "source": [
    "def kl_div_bin(X, Y, n_bins=10, strategy=\"quantile\", verbose=False):\n",
    "    n_x = len(X)\n",
    "    n_y = len(Y)\n",
    "    binner = KBinsDiscretizer(n_bins=n_bins, encode=\"ordinal\", strategy=strategy)\n",
    "    X_binned = binner.fit_transform(X)\n",
    "    Y_binned = binner.transform(Y)\n",
    "\n",
    "    result = 0\n",
    "    for i in range(n_bins):\n",
    "        y_count = (Y_binned == i).sum()\n",
    "\n",
    "        if y_count == 0:\n",
    "            if verbose:\n",
    "                print(\"Empty bin for Y - value omitted\")\n",
    "            continue\n",
    "\n",
    "        x_count = (X_binned == i).sum()\n",
    "        \n",
    "        result += x_count/n_x * np.log((x_count/n_x)/(y_count/n_y))\n",
    "    return max(0,result)"
   ]
  },
  {
   "cell_type": "markdown",
   "metadata": {},
   "source": [
    "## Analytic KL divergence"
   ]
  },
  {
   "cell_type": "code",
   "execution_count": 8,
   "metadata": {},
   "outputs": [],
   "source": [
    "def kl_div_norm_norm(mu_1, sigma_1, mu_2, sigma_2):\n",
    "    return ((mu_1 - mu_2) ** 2 + sigma_1**2 - sigma_2**2) / (\n",
    "        2 * sigma_2**2\n",
    "    ) + np.log(sigma_2 / sigma_1)\n",
    "\n",
    "\n",
    "def kl_div_uni_uni(a_1, b_1, a_2, b_2):\n",
    "    return np.log((b_2 - a_2) / (b_1 - a_1))\n",
    "\n",
    "\n",
    "def kl_div_exp_exp(lambda_1, lambda_2):\n",
    "    return np.log(lambda_1 / lambda_2) + lambda_2 / lambda_1 - 1"
   ]
  },
  {
   "cell_type": "markdown",
   "metadata": {},
   "source": [
    "## Comparison"
   ]
  },
  {
   "cell_type": "markdown",
   "metadata": {},
   "source": [
    "### Self-divergence standard normal distribution"
   ]
  },
  {
   "cell_type": "code",
   "execution_count": 9,
   "metadata": {},
   "outputs": [
    {
     "name": "stdout",
     "output_type": "stream",
     "text": [
      "Empirical CDF estimator - 0.0004567471939944667\n",
      "knn estimator           - 0\n",
      "Binning estimator       - 0.00011878705189443382\n",
      "Analytical result       - 0.0\n"
     ]
    }
   ],
   "source": [
    "mu_1 = 0\n",
    "sigma_1 = 1\n",
    "mu_2 = mu_1\n",
    "sigma_2 = sigma_1\n",
    "rng = np.random.default_rng(seed=42)\n",
    "X = rng.normal(mu_1, sigma_1, 100_000)\n",
    "Y = rng.normal(mu_2, sigma_2, 100_000)\n",
    "print(f\"Empirical CDF estimator - {kl_div(X, Y)}\")\n",
    "print(f\"knn estimator           - {scipy_estimator(X.reshape(-1,1), Y.reshape(-1,1))}\")\n",
    "print(f\"Binning estimator       - {kl_div_bin(X.reshape(-1,1), Y.reshape(-1,1))}\")\n",
    "print(f\"Analytical result       - {kl_div_norm_norm(mu_1, sigma_1, mu_2, sigma_2)}\")"
   ]
  },
  {
   "cell_type": "markdown",
   "metadata": {},
   "source": [
    "### Two normal distributions - $\\mathcal{N}(0,1)$ and $\\mathcal{N}(0,2)$"
   ]
  },
  {
   "cell_type": "code",
   "execution_count": 10,
   "metadata": {},
   "outputs": [
    {
     "name": "stdout",
     "output_type": "stream",
     "text": [
      "Empirical CDF estimator - 0.3148033341857741\n",
      "knn estimator           - 0.31550281847300415\n",
      "Binning estimator       - 0.23010721551018237\n",
      "Analytical result       - 0.3181471805599453\n"
     ]
    }
   ],
   "source": [
    "mu_1 = 0\n",
    "sigma_1 = 1\n",
    "mu_2 = 0\n",
    "sigma_2 = 2\n",
    "rng = np.random.default_rng(seed=42)\n",
    "X = rng.normal(mu_1, sigma_1, 100_000)\n",
    "Y = rng.normal(mu_2, sigma_2, 100_000)\n",
    "print(f\"Empirical CDF estimator - {kl_div(X, Y)}\")\n",
    "print(f\"knn estimator           - {scipy_estimator(X.reshape(-1,1), Y.reshape(-1,1))}\")\n",
    "print(f\"Binning estimator       - {kl_div_bin(X.reshape(-1,1), Y.reshape(-1,1))}\")\n",
    "print(f\"Analytical result       - {kl_div_norm_norm(mu_1, sigma_1, mu_2, sigma_2)}\")"
   ]
  },
  {
   "cell_type": "markdown",
   "metadata": {},
   "source": [
    "### Two normal distributions - $\\mathcal{N}(0,1)$ and $\\mathcal{N}(0,0.2)$"
   ]
  },
  {
   "cell_type": "code",
   "execution_count": 11,
   "metadata": {},
   "outputs": [
    {
     "name": "stdout",
     "output_type": "stream",
     "text": [
      "6898 point removed due to zeros encounter in dQ. This suggests numerical instability - return value might not be reliable. Try dividing sample in few parts and taking average result.\n",
      "Empirical CDF estimator - 4.146234064438398\n",
      "knn estimator           - 4.207346717859741\n",
      "Binning estimator       - 1.97754059004881\n",
      "Analytical result       - 10.390562087565897\n"
     ]
    }
   ],
   "source": [
    "mu_1 = 0\n",
    "sigma_1 = 1\n",
    "mu_2 = 0\n",
    "sigma_2 = 0.2\n",
    "rng = np.random.default_rng(seed=42)\n",
    "X = rng.normal(mu_1, sigma_1, 100_000)\n",
    "Y = rng.normal(mu_2, sigma_2, 100_000)\n",
    "print(f\"Empirical CDF estimator - {kl_div(X, Y)}\")\n",
    "print(f\"knn estimator           - {scipy_estimator(X.reshape(-1,1), Y.reshape(-1,1))}\")\n",
    "print(f\"Binning estimator       - {kl_div_bin(X.reshape(-1,1), Y.reshape(-1,1))}\")\n",
    "print(f\"Analytical result       - {kl_div_norm_norm(mu_1, sigma_1, mu_2, sigma_2)}\")"
   ]
  },
  {
   "cell_type": "code",
   "execution_count": 12,
   "metadata": {},
   "outputs": [
    {
     "name": "stdout",
     "output_type": "stream",
     "text": [
      "956 point removed due to zeros encounter in dQ. This suggests numerical instability - return value might not be reliable. Try dividing sample in few parts and taking average result.\n",
      "1878 point removed due to zeros encounter in dQ. This suggests numerical instability - return value might not be reliable. Try dividing sample in few parts and taking average result.\n",
      "2080 point removed due to zeros encounter in dQ. This suggests numerical instability - return value might not be reliable. Try dividing sample in few parts and taking average result.\n",
      "1731 point removed due to zeros encounter in dQ. This suggests numerical instability - return value might not be reliable. Try dividing sample in few parts and taking average result.\n",
      "2336 point removed due to zeros encounter in dQ. This suggests numerical instability - return value might not be reliable. Try dividing sample in few parts and taking average result.\n",
      "2203 point removed due to zeros encounter in dQ. This suggests numerical instability - return value might not be reliable. Try dividing sample in few parts and taking average result.\n",
      "650 point removed due to zeros encounter in dQ. This suggests numerical instability - return value might not be reliable. Try dividing sample in few parts and taking average result.\n",
      "1419 point removed due to zeros encounter in dQ. This suggests numerical instability - return value might not be reliable. Try dividing sample in few parts and taking average result.\n",
      "378 point removed due to zeros encounter in dQ. This suggests numerical instability - return value might not be reliable. Try dividing sample in few parts and taking average result.\n",
      "1642 point removed due to zeros encounter in dQ. This suggests numerical instability - return value might not be reliable. Try dividing sample in few parts and taking average result.\n",
      "529 point removed due to zeros encounter in dQ. This suggests numerical instability - return value might not be reliable. Try dividing sample in few parts and taking average result.\n",
      "1089 point removed due to zeros encounter in dQ. This suggests numerical instability - return value might not be reliable. Try dividing sample in few parts and taking average result.\n",
      "812 point removed due to zeros encounter in dQ. This suggests numerical instability - return value might not be reliable. Try dividing sample in few parts and taking average result.\n",
      "855 point removed due to zeros encounter in dQ. This suggests numerical instability - return value might not be reliable. Try dividing sample in few parts and taking average result.\n",
      "497 point removed due to zeros encounter in dQ. This suggests numerical instability - return value might not be reliable. Try dividing sample in few parts and taking average result.\n",
      "1197 point removed due to zeros encounter in dQ. This suggests numerical instability - return value might not be reliable. Try dividing sample in few parts and taking average result.\n",
      "1724 point removed due to zeros encounter in dQ. This suggests numerical instability - return value might not be reliable. Try dividing sample in few parts and taking average result.\n",
      "1491 point removed due to zeros encounter in dQ. This suggests numerical instability - return value might not be reliable. Try dividing sample in few parts and taking average result.\n",
      "781 point removed due to zeros encounter in dQ. This suggests numerical instability - return value might not be reliable. Try dividing sample in few parts and taking average result.\n",
      "952 point removed due to zeros encounter in dQ. This suggests numerical instability - return value might not be reliable. Try dividing sample in few parts and taking average result.\n",
      "947 point removed due to zeros encounter in dQ. This suggests numerical instability - return value might not be reliable. Try dividing sample in few parts and taking average result.\n",
      "1710 point removed due to zeros encounter in dQ. This suggests numerical instability - return value might not be reliable. Try dividing sample in few parts and taking average result.\n",
      "639 point removed due to zeros encounter in dQ. This suggests numerical instability - return value might not be reliable. Try dividing sample in few parts and taking average result.\n",
      "999\n",
      "Empirical CDF estimator          - 3.951123498073733 +/- 0.4454386667139436\n",
      "Empirical CDF estimator averaged - 4.14642208406058 +/- 0.12968182969383932\n",
      "knn estimator                    - 4.396171911959766 +/- 0.07136277428268406\n",
      "Binning estimator                - 1.6355941062122235 +/- 0.5385350060505641\n",
      "Analytical result                - 10.390562087565897\n"
     ]
    }
   ],
   "source": [
    "mu_1 = 0\n",
    "sigma_1 = 1\n",
    "mu_2 = 0\n",
    "sigma_2 = 0.2\n",
    "size = 100_000\n",
    "rng = np.random.default_rng(seed=42)\n",
    "ecdf_kl = np.array([])\n",
    "ecdf_kl_avg = np.array([])\n",
    "knn_kl = np.array([])\n",
    "bin_kl = np.array([])\n",
    "\n",
    "n = 1000\n",
    "n_chunks = 10\n",
    "for i in range(n):\n",
    "    X = rng.normal(mu_1, sigma_1, size)\n",
    "    Y = rng.normal(mu_2, sigma_2, size)\n",
    "\n",
    "    ecdf_kl = np.append(ecdf_kl, kl_div(X, Y, num_instab=\"ignore\"))\n",
    "    for j in range(n_chunks):\n",
    "        ecdf_kl_avg = np.append(ecdf_kl_avg, kl_div(X[j*size//n_chunks:(j+1)*size//n_chunks],Y[j*size//n_chunks:(j+1)*size//n_chunks]))\n",
    "\n",
    "    knn_kl = np.append(knn_kl, scipy_estimator(X.reshape(-1,1), Y.reshape(-1,1)))\n",
    "    bin_kl = np.append(bin_kl, kl_div_bin(X.reshape(-1,1), Y.reshape(-1,1)))\n",
    "    print(i, flush=True, end=\"\\r\")\n",
    "\n",
    "print(\"\")\n",
    "print(f\"Empirical CDF estimator          - {ecdf_kl.mean()} +/- {ecdf_kl.std()}\")\n",
    "print(f\"Empirical CDF estimator averaged - {ecdf_kl_avg.mean()} +/- {ecdf_kl_avg.std()}\")\n",
    "print(f\"knn estimator                    - {knn_kl.mean()} +/- {knn_kl.std()}\")\n",
    "print(f\"Binning estimator                - {bin_kl.mean()} +/- {bin_kl.std()}\")\n",
    "print(f\"Analytical result                - {kl_div_norm_norm(mu_1, sigma_1, mu_2, sigma_2)}\")"
   ]
  },
  {
   "cell_type": "code",
   "execution_count": 16,
   "metadata": {},
   "outputs": [
    {
     "data": {
      "image/png": "[encoded data removed]",
      "text/plain": [
       "<Figure size 640x480 with 1 Axes>"
      ]
     },
     "metadata": {},
     "output_type": "display_data"
    }
   ],
   "source": [
    "# plt.hist(X, bins=100, density=True, alpha=0.6)\n",
    "# plt.hist(Y, bins=100, density=True, alpha=0.6)\n",
    "plt.hist(np.append(X,Y), bins=100, density=True, alpha=0.6)\n",
    "plt.show()"
   ]
  },
  {
   "cell_type": "code",
   "execution_count": null,
   "metadata": {},
   "outputs": [],
   "source": []
  }
 ],
 "metadata": {
  "kernelspec": {
   "display_name": "venv",
   "language": "python",
   "name": "python3"
  },
  "language_info": {
   "codemirror_mode": {
    "name": "ipython",
    "version": 3
   },
   "file_extension": ".py",
   "mimetype": "text/x-python",
   "name": "python",
   "nbconvert_exporter": "python",
   "pygments_lexer": "ipython3",
   "version": "3.13.1"
  }
 },
 "nbformat": 4,
 "nbformat_minor": 2
}
